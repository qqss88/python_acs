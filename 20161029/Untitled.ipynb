{
 "cells": [
  {
   "cell_type": "code",
   "execution_count": 8,
   "metadata": {
    "collapsed": false
   },
   "outputs": [
    {
     "name": "stdout",
     "output_type": "stream",
     "text": [
      "would\n",
      "6\n"
     ]
    }
   ],
   "source": [
    "print 'pls enter your search word:'\n",
    "word = raw_input()\n",
    "\n",
    "count = 0\n",
    "with open('song.txt') as song:\n",
    "    for line in song:\n",
    "        count += line.count(word)\n",
    "print count\n",
    "    #print song"
   ]
  },
  {
   "cell_type": "code",
   "execution_count": 11,
   "metadata": {
    "collapsed": false
   },
   "outputs": [
    {
     "data": {
      "text/html": [
       "<div>\n",
       "<table border=\"1\" class=\"dataframe\">\n",
       "  <thead>\n",
       "    <tr style=\"text-align: right;\">\n",
       "      <th></th>\n",
       "      <th>X</th>\n",
       "      <th>Y</th>\n",
       "      <th>Z</th>\n",
       "    </tr>\n",
       "  </thead>\n",
       "  <tbody>\n",
       "    <tr>\n",
       "      <th>0</th>\n",
       "      <td>X1</td>\n",
       "      <td>Y2</td>\n",
       "      <td>Z3</td>\n",
       "    </tr>\n",
       "    <tr>\n",
       "      <th>1</th>\n",
       "      <td>X1</td>\n",
       "      <td>Y1</td>\n",
       "      <td>Z1</td>\n",
       "    </tr>\n",
       "    <tr>\n",
       "      <th>2</th>\n",
       "      <td>X1</td>\n",
       "      <td>Y1</td>\n",
       "      <td>Z1</td>\n",
       "    </tr>\n",
       "    <tr>\n",
       "      <th>3</th>\n",
       "      <td>X1</td>\n",
       "      <td>Y1</td>\n",
       "      <td>Z2</td>\n",
       "    </tr>\n",
       "  </tbody>\n",
       "</table>\n",
       "</div>"
      ],
      "text/plain": [
       "    X   Y   Z\n",
       "0  X1  Y2  Z3\n",
       "1  X1  Y1  Z1\n",
       "2  X1  Y1  Z1\n",
       "3  X1  Y1  Z2"
      ]
     },
     "execution_count": 11,
     "metadata": {},
     "output_type": "execute_result"
    }
   ],
   "source": [
    "import pandas as pd\n",
    "df2 = pd.DataFrame({'X' : ['X1', 'X1', 'X1', 'X1'],\n",
    "                    'Y' : ['Y2','Y1','Y1','Y1'], \n",
    "                    'Z' : ['Z3','Z1','Z1','Z2']})\n",
    "df2"
   ]
  },
  {
   "cell_type": "code",
   "execution_count": 14,
   "metadata": {
    "collapsed": false
   },
   "outputs": [
    {
     "ename": "TypeError",
     "evalue": "pivot_table() got an unexpected keyword argument 'rows'",
     "output_type": "error",
     "traceback": [
      "\u001b[0;31m---------------------------------------------------------------------------\u001b[0m",
      "\u001b[0;31mTypeError\u001b[0m                                 Traceback (most recent call last)",
      "\u001b[0;32m<ipython-input-14-44608bd7824b>\u001b[0m in \u001b[0;36m<module>\u001b[0;34m()\u001b[0m\n\u001b[1;32m      1\u001b[0m df2.pivot_table(values='X', rows='Y', cols='Z', \n\u001b[0;32m----> 2\u001b[0;31m                 aggfunc=lambda x: len(x.unique()))\n\u001b[0m",
      "\u001b[0;31mTypeError\u001b[0m: pivot_table() got an unexpected keyword argument 'rows'"
     ]
    }
   ],
   "source": [
    "df2.pivot_table(values='X', rows='Y', cols='Z', \n",
    "                aggfunc=lambda x: len(x.unique()))"
   ]
  },
  {
   "cell_type": "code",
   "execution_count": 15,
   "metadata": {
    "collapsed": false
   },
   "outputs": [
    {
     "ename": "TypeError",
     "evalue": "pivot_table() got an unexpected keyword argument 'rows'",
     "output_type": "error",
     "traceback": [
      "\u001b[0;31m---------------------------------------------------------------------------\u001b[0m",
      "\u001b[0;31mTypeError\u001b[0m                                 Traceback (most recent call last)",
      "\u001b[0;32m<ipython-input-15-ce67769d25e9>\u001b[0m in \u001b[0;36m<module>\u001b[0;34m()\u001b[0m\n\u001b[0;32m----> 1\u001b[0;31m \u001b[0mdf2\u001b[0m\u001b[0;34m.\u001b[0m\u001b[0mpivot_table\u001b[0m\u001b[0;34m(\u001b[0m\u001b[0mvalues\u001b[0m\u001b[0;34m=\u001b[0m\u001b[0;34m'X'\u001b[0m\u001b[0;34m,\u001b[0m\u001b[0mrows\u001b[0m\u001b[0;34m=\u001b[0m\u001b[0;34m[\u001b[0m\u001b[0;34m'Y'\u001b[0m\u001b[0;34m,\u001b[0m\u001b[0;34m'Z'\u001b[0m\u001b[0;34m]\u001b[0m\u001b[0;34m,\u001b[0m\u001b[0mcols\u001b[0m\u001b[0;34m=\u001b[0m\u001b[0;34m'X'\u001b[0m\u001b[0;34m,\u001b[0m\u001b[0maggfunc\u001b[0m\u001b[0;34m=\u001b[0m\u001b[0;34m'count'\u001b[0m\u001b[0;34m)\u001b[0m\u001b[0;34m\u001b[0m\u001b[0m\n\u001b[0m",
      "\u001b[0;31mTypeError\u001b[0m: pivot_table() got an unexpected keyword argument 'rows'"
     ]
    }
   ],
   "source": [
    "df2.pivot_table(values='X',rows=['Y','Z'],cols='X',aggfunc='count')"
   ]
  },
  {
   "cell_type": "code",
   "execution_count": 20,
   "metadata": {
    "collapsed": false
   },
   "outputs": [
    {
     "ename": "TypeError",
     "evalue": "pivot_table() got an unexpected keyword argument 'rows'",
     "output_type": "error",
     "traceback": [
      "\u001b[0;31m---------------------------------------------------------------------------\u001b[0m",
      "\u001b[0;31mTypeError\u001b[0m                                 Traceback (most recent call last)",
      "\u001b[0;32m<ipython-input-20-861048d17fcb>\u001b[0m in \u001b[0;36m<module>\u001b[0;34m()\u001b[0m\n\u001b[1;32m      3\u001b[0m \u001b[0;32mfor\u001b[0m \u001b[0mxval\u001b[0m\u001b[0;34m,\u001b[0m \u001b[0mxgroup\u001b[0m \u001b[0;32min\u001b[0m \u001b[0mdf2\u001b[0m\u001b[0;34m[\u001b[0m\u001b[0;34m'X'\u001b[0m\u001b[0;34m]\u001b[0m\u001b[0;34m:\u001b[0m\u001b[0;34m\u001b[0m\u001b[0m\n\u001b[1;32m      4\u001b[0m     ptable = pd.pivot_table(xgroup, rows='Y', cols='Z', \n\u001b[0;32m----> 5\u001b[0;31m         margins=False, aggfunc=numpy.size)\n\u001b[0m",
      "\u001b[0;31mTypeError\u001b[0m: pivot_table() got an unexpected keyword argument 'rows'"
     ]
    }
   ],
   "source": [
    "import numpy\n",
    "\n",
    "for xval, xgroup in df2['X']:\n",
    "    ptable = pd.pivot_table(xgroup, rows='Y', cols='Z', \n",
    "        margins=False, aggfunc=numpy.size)"
   ]
  },
  {
   "cell_type": "code",
   "execution_count": 1,
   "metadata": {
    "collapsed": false
   },
   "outputs": [
    {
     "name": "stdout",
     "output_type": "stream",
     "text": [
      "hello\n"
     ]
    }
   ],
   "source": [
    "print 'hello'"
   ]
  },
  {
   "cell_type": "code",
   "execution_count": 2,
   "metadata": {
    "collapsed": false
   },
   "outputs": [
    {
     "name": "stdout",
     "output_type": "stream",
     "text": [
      "hello\n"
     ]
    }
   ],
   "source": [
    "print('hello')"
   ]
  },
  {
   "cell_type": "code",
   "execution_count": 3,
   "metadata": {
    "collapsed": true
   },
   "outputs": [],
   "source": [
    "import random"
   ]
  },
  {
   "cell_type": "code",
   "execution_count": 24,
   "metadata": {
    "collapsed": false
   },
   "outputs": [
    {
     "data": {
      "text/plain": [
       "59"
      ]
     },
     "execution_count": 24,
     "metadata": {},
     "output_type": "execute_result"
    }
   ],
   "source": [
    "random.randint(1,100)"
   ]
  },
  {
   "cell_type": "code",
   "execution_count": 7,
   "metadata": {
    "collapsed": false
   },
   "outputs": [
    {
     "data": {
      "text/plain": [
       "[0, 1, 2, 3, 4]"
      ]
     },
     "execution_count": 7,
     "metadata": {},
     "output_type": "execute_result"
    }
   ],
   "source": [
    "range(5)"
   ]
  },
  {
   "cell_type": "code",
   "execution_count": 26,
   "metadata": {
    "collapsed": false
   },
   "outputs": [
    {
     "name": "stdout",
     "output_type": "stream",
     "text": [
      "[83]\n",
      "[83, 17]\n",
      "[83, 17, 44]\n",
      "[83, 17, 44, 37]\n",
      "[83, 17, 44, 37, 44]\n",
      "[83, 17, 44, 37, 44, 25]\n",
      "[83, 17, 44, 37, 44, 25, 49]\n",
      "[83, 17, 44, 37, 44, 25, 49, 24]\n",
      "[83, 17, 44, 37, 44, 25, 49, 24, 17]\n",
      "[83, 17, 44, 37, 44, 25, 49, 24, 17, 43]\n",
      "[83, 17, 44, 37, 44, 25, 49, 24, 17, 43, 19]\n",
      "[83, 17, 44, 37, 44, 25, 49, 24, 17, 43, 19, 53]\n",
      "[83, 17, 44, 37, 44, 25, 49, 24, 17, 43, 19, 53, 80]\n",
      "[83, 17, 44, 37, 44, 25, 49, 24, 17, 43, 19, 53, 80, 20]\n",
      "[83, 17, 44, 37, 44, 25, 49, 24, 17, 43, 19, 53, 80, 20, 94]\n",
      "[83, 17, 44, 37, 44, 25, 49, 24, 17, 43, 19, 53, 80, 20, 94, 63]\n",
      "[83, 17, 44, 37, 44, 25, 49, 24, 17, 43, 19, 53, 80, 20, 94, 63, 51]\n",
      "[83, 17, 44, 37, 44, 25, 49, 24, 17, 43, 19, 53, 80, 20, 94, 63, 51, 91]\n",
      "[83, 17, 44, 37, 44, 25, 49, 24, 17, 43, 19, 53, 80, 20, 94, 63, 51, 91, 5]\n",
      "[83, 17, 44, 37, 44, 25, 49, 24, 17, 43, 19, 53, 80, 20, 94, 63, 51, 91, 5, 68]\n",
      "[83, 17, 44, 37, 44, 25, 49, 24, 17, 43, 19, 53, 80, 20, 94, 63, 51, 91, 5, 68, 5]\n",
      "[83, 17, 44, 37, 44, 25, 49, 24, 17, 43, 19, 53, 80, 20, 94, 63, 51, 91, 5, 68, 5, 88]\n",
      "[83, 17, 44, 37, 44, 25, 49, 24, 17, 43, 19, 53, 80, 20, 94, 63, 51, 91, 5, 68, 5, 88, 100]\n",
      "[83, 17, 44, 37, 44, 25, 49, 24, 17, 43, 19, 53, 80, 20, 94, 63, 51, 91, 5, 68, 5, 88, 100, 82]\n",
      "[83, 17, 44, 37, 44, 25, 49, 24, 17, 43, 19, 53, 80, 20, 94, 63, 51, 91, 5, 68, 5, 88, 100, 82, 91]\n",
      "[83, 17, 44, 37, 44, 25, 49, 24, 17, 43, 19, 53, 80, 20, 94, 63, 51, 91, 5, 68, 5, 88, 100, 82, 91, 24]\n",
      "[83, 17, 44, 37, 44, 25, 49, 24, 17, 43, 19, 53, 80, 20, 94, 63, 51, 91, 5, 68, 5, 88, 100, 82, 91, 24, 50]\n",
      "[83, 17, 44, 37, 44, 25, 49, 24, 17, 43, 19, 53, 80, 20, 94, 63, 51, 91, 5, 68, 5, 88, 100, 82, 91, 24, 50, 80]\n",
      "[83, 17, 44, 37, 44, 25, 49, 24, 17, 43, 19, 53, 80, 20, 94, 63, 51, 91, 5, 68, 5, 88, 100, 82, 91, 24, 50, 80, 45]\n",
      "[83, 17, 44, 37, 44, 25, 49, 24, 17, 43, 19, 53, 80, 20, 94, 63, 51, 91, 5, 68, 5, 88, 100, 82, 91, 24, 50, 80, 45, 55]\n",
      "[83, 17, 44, 37, 44, 25, 49, 24, 17, 43, 19, 53, 80, 20, 94, 63, 51, 91, 5, 68, 5, 88, 100, 82, 91, 24, 50, 80, 45, 55, 38]\n",
      "[83, 17, 44, 37, 44, 25, 49, 24, 17, 43, 19, 53, 80, 20, 94, 63, 51, 91, 5, 68, 5, 88, 100, 82, 91, 24, 50, 80, 45, 55, 38, 12]\n",
      "[83, 17, 44, 37, 44, 25, 49, 24, 17, 43, 19, 53, 80, 20, 94, 63, 51, 91, 5, 68, 5, 88, 100, 82, 91, 24, 50, 80, 45, 55, 38, 12, 75]\n",
      "[83, 17, 44, 37, 44, 25, 49, 24, 17, 43, 19, 53, 80, 20, 94, 63, 51, 91, 5, 68, 5, 88, 100, 82, 91, 24, 50, 80, 45, 55, 38, 12, 75, 52]\n",
      "[83, 17, 44, 37, 44, 25, 49, 24, 17, 43, 19, 53, 80, 20, 94, 63, 51, 91, 5, 68, 5, 88, 100, 82, 91, 24, 50, 80, 45, 55, 38, 12, 75, 52, 1]\n",
      "[83, 17, 44, 37, 44, 25, 49, 24, 17, 43, 19, 53, 80, 20, 94, 63, 51, 91, 5, 68, 5, 88, 100, 82, 91, 24, 50, 80, 45, 55, 38, 12, 75, 52, 1, 32]\n",
      "[83, 17, 44, 37, 44, 25, 49, 24, 17, 43, 19, 53, 80, 20, 94, 63, 51, 91, 5, 68, 5, 88, 100, 82, 91, 24, 50, 80, 45, 55, 38, 12, 75, 52, 1, 32, 66]\n",
      "[83, 17, 44, 37, 44, 25, 49, 24, 17, 43, 19, 53, 80, 20, 94, 63, 51, 91, 5, 68, 5, 88, 100, 82, 91, 24, 50, 80, 45, 55, 38, 12, 75, 52, 1, 32, 66, 35]\n",
      "[83, 17, 44, 37, 44, 25, 49, 24, 17, 43, 19, 53, 80, 20, 94, 63, 51, 91, 5, 68, 5, 88, 100, 82, 91, 24, 50, 80, 45, 55, 38, 12, 75, 52, 1, 32, 66, 35, 79]\n",
      "[83, 17, 44, 37, 44, 25, 49, 24, 17, 43, 19, 53, 80, 20, 94, 63, 51, 91, 5, 68, 5, 88, 100, 82, 91, 24, 50, 80, 45, 55, 38, 12, 75, 52, 1, 32, 66, 35, 79, 95]\n",
      "[83, 17, 44, 37, 44, 25, 49, 24, 17, 43, 19, 53, 80, 20, 94, 63, 51, 91, 5, 68, 5, 88, 100, 82, 91, 24, 50, 80, 45, 55, 38, 12, 75, 52, 1, 32, 66, 35, 79, 95, 93]\n",
      "[83, 17, 44, 37, 44, 25, 49, 24, 17, 43, 19, 53, 80, 20, 94, 63, 51, 91, 5, 68, 5, 88, 100, 82, 91, 24, 50, 80, 45, 55, 38, 12, 75, 52, 1, 32, 66, 35, 79, 95, 93, 76]\n",
      "[83, 17, 44, 37, 44, 25, 49, 24, 17, 43, 19, 53, 80, 20, 94, 63, 51, 91, 5, 68, 5, 88, 100, 82, 91, 24, 50, 80, 45, 55, 38, 12, 75, 52, 1, 32, 66, 35, 79, 95, 93, 76, 65]\n",
      "[83, 17, 44, 37, 44, 25, 49, 24, 17, 43, 19, 53, 80, 20, 94, 63, 51, 91, 5, 68, 5, 88, 100, 82, 91, 24, 50, 80, 45, 55, 38, 12, 75, 52, 1, 32, 66, 35, 79, 95, 93, 76, 65, 27]\n",
      "[83, 17, 44, 37, 44, 25, 49, 24, 17, 43, 19, 53, 80, 20, 94, 63, 51, 91, 5, 68, 5, 88, 100, 82, 91, 24, 50, 80, 45, 55, 38, 12, 75, 52, 1, 32, 66, 35, 79, 95, 93, 76, 65, 27, 95]\n",
      "[83, 17, 44, 37, 44, 25, 49, 24, 17, 43, 19, 53, 80, 20, 94, 63, 51, 91, 5, 68, 5, 88, 100, 82, 91, 24, 50, 80, 45, 55, 38, 12, 75, 52, 1, 32, 66, 35, 79, 95, 93, 76, 65, 27, 95, 32]\n",
      "[83, 17, 44, 37, 44, 25, 49, 24, 17, 43, 19, 53, 80, 20, 94, 63, 51, 91, 5, 68, 5, 88, 100, 82, 91, 24, 50, 80, 45, 55, 38, 12, 75, 52, 1, 32, 66, 35, 79, 95, 93, 76, 65, 27, 95, 32, 73]\n",
      "[83, 17, 44, 37, 44, 25, 49, 24, 17, 43, 19, 53, 80, 20, 94, 63, 51, 91, 5, 68, 5, 88, 100, 82, 91, 24, 50, 80, 45, 55, 38, 12, 75, 52, 1, 32, 66, 35, 79, 95, 93, 76, 65, 27, 95, 32, 73, 32]\n",
      "[83, 17, 44, 37, 44, 25, 49, 24, 17, 43, 19, 53, 80, 20, 94, 63, 51, 91, 5, 68, 5, 88, 100, 82, 91, 24, 50, 80, 45, 55, 38, 12, 75, 52, 1, 32, 66, 35, 79, 95, 93, 76, 65, 27, 95, 32, 73, 32, 83]\n",
      "[83, 17, 44, 37, 44, 25, 49, 24, 17, 43, 19, 53, 80, 20, 94, 63, 51, 91, 5, 68, 5, 88, 100, 82, 91, 24, 50, 80, 45, 55, 38, 12, 75, 52, 1, 32, 66, 35, 79, 95, 93, 76, 65, 27, 95, 32, 73, 32, 83, 48]\n",
      "[83, 17, 44, 37, 44, 25, 49, 24, 17, 43, 19, 53, 80, 20, 94, 63, 51, 91, 5, 68, 5, 88, 100, 82, 91, 24, 50, 80, 45, 55, 38, 12, 75, 52, 1, 32, 66, 35, 79, 95, 93, 76, 65, 27, 95, 32, 73, 32, 83, 48]\n"
     ]
    }
   ],
   "source": [
    "a = []# a is defined as an empty list\n",
    "for m in range(50):\n",
    "    a.append(random.randint(1,100))\n",
    "    print a\n",
    "print a\n",
    "    \n"
   ]
  },
  {
   "cell_type": "code",
   "execution_count": 27,
   "metadata": {
    "collapsed": false
   },
   "outputs": [
    {
     "name": "stdout",
     "output_type": "stream",
     "text": [
      "50\n"
     ]
    }
   ],
   "source": [
    "print len(a)"
   ]
  },
  {
   "cell_type": "code",
   "execution_count": 49,
   "metadata": {
    "collapsed": false
   },
   "outputs": [],
   "source": [
    "b = []# a is defined as an empty list\n",
    "for m in range(500):\n",
    "    b.append(random.randint(1,100))\n",
    "    #print b\n",
    "#print b"
   ]
  },
  {
   "cell_type": "code",
   "execution_count": 50,
   "metadata": {
    "collapsed": false
   },
   "outputs": [
    {
     "name": "stdout",
     "output_type": "stream",
     "text": [
      "{1: 1, 2: 1, 3: 1, 4: 1, 5: 1, 6: 1, 7: 1, 8: 1, 9: 1, 10: 1, 11: 1, 12: 1, 13: 1, 14: 1, 15: 1, 16: 1, 17: 1, 18: 1, 19: 1, 20: 1, 22: 1, 23: 1, 24: 1, 25: 1, 26: 1, 27: 1, 28: 1, 29: 1, 30: 1, 31: 1, 32: 1, 33: 1, 34: 1, 35: 1, 36: 1, 37: 1, 38: 1, 39: 1, 40: 1, 41: 1, 42: 1, 43: 1, 44: 1, 45: 1, 46: 1, 47: 1, 48: 1, 49: 1, 50: 1, 51: 1, 52: 1, 53: 1, 54: 1, 55: 1, 56: 1, 57: 1, 58: 1, 59: 1, 60: 1, 61: 1, 62: 1, 63: 1, 64: 1, 65: 1, 66: 1, 67: 1, 68: 1, 69: 1, 70: 1, 71: 1, 72: 1, 73: 1, 74: 1, 75: 1, 76: 1, 77: 1, 78: 1, 79: 1, 80: 1, 81: 1, 82: 1, 83: 1, 84: 1, 85: 1, 86: 1, 87: 1, 88: 1, 89: 1, 90: 1, 91: 1, 92: 1, 93: 1, 94: 1, 95: 1, 96: 1, 97: 1, 98: 1, 99: 1, 100: 1}\n"
     ]
    }
   ],
   "source": [
    "_b = dict((m, 1) for m in b)\n",
    "print _b"
   ]
  },
  {
   "cell_type": "code",
   "execution_count": 52,
   "metadata": {
    "collapsed": false
   },
   "outputs": [
    {
     "name": "stdout",
     "output_type": "stream",
     "text": [
      "CPU times: user 4 µs, sys: 4 µs, total: 8 µs\n",
      "Wall time: 9.06 µs\n",
      "[83, 17, 44, 37, 44, 25, 49, 24, 17, 43, 19, 53, 80, 20, 94, 63, 51, 91, 5, 68, 5, 88, 100, 82, 91, 24, 50, 80, 45, 55, 38, 12, 75, 52, 1, 32, 66, 35, 79, 95, 93, 76, 65, 27, 95, 32, 73, 32, 83, 48]\n"
     ]
    }
   ],
   "source": [
    "%time\n",
    "\n",
    "c = []\n",
    "for num in a:\n",
    "    if _b.get(num) == 1:\n",
    "        c.append(num)\n",
    "print c"
   ]
  },
  {
   "cell_type": "code",
   "execution_count": 53,
   "metadata": {
    "collapsed": false
   },
   "outputs": [
    {
     "name": "stdout",
     "output_type": "stream",
     "text": [
      "CPU times: user 5 µs, sys: 3 µs, total: 8 µs\n",
      "Wall time: 9.06 µs\n",
      "[1, 5, 5, 12, 17, 17, 19, 20, 24, 24, 25, 27, 32, 32, 32, 35, 37, 38, 43, 44, 44, 45, 48, 49, 50, 51, 52, 53, 55, 63, 65, 66, 68, 73, 75, 76, 79, 80, 80, 82, 83, 83, 88, 91, 91, 93, 94, 95, 95, 100]\n"
     ]
    }
   ],
   "source": [
    "%time\n",
    "\n",
    "c = []\n",
    "for num in a:\n",
    "    \n",
    "    if num in b:\n",
    "        c.append(num)\n",
    "        #print num, 'found in b'\n",
    "    #else:\n",
    "        #print num, 'not found in b '\n",
    "print sorted(c)"
   ]
  },
  {
   "cell_type": "code",
   "execution_count": 2,
   "metadata": {
    "collapsed": false
   },
   "outputs": [
    {
     "data": {
      "text/plain": [
       "9"
      ]
     },
     "execution_count": 2,
     "metadata": {},
     "output_type": "execute_result"
    }
   ],
   "source": [
    "a_str = 'abbbbbbbb'\n",
    "\n",
    "len(a_str)"
   ]
  },
  {
   "cell_type": "code",
   "execution_count": 5,
   "metadata": {
    "collapsed": false
   },
   "outputs": [
    {
     "name": "stdout",
     "output_type": "stream",
     "text": [
      "gfedcba\n"
     ]
    }
   ],
   "source": [
    "a_str = 'abcdefg'\n",
    "a_str_reverse = a_str[::-1]\n",
    "print(a_str_reverse)"
   ]
  },
  {
   "cell_type": "code",
   "execution_count": 18,
   "metadata": {
    "collapsed": false
   },
   "outputs": [
    {
     "name": "stdout",
     "output_type": "stream",
     "text": [
      "abcdefg\n",
      "gfedcba\n"
     ]
    }
   ],
   "source": [
    "print(a_str)\n",
    "a_list = list(a_str)\n",
    "#print(a_list)\n",
    "m = ''.join(list(reversed(a_list)))\n",
    "print(m)"
   ]
  },
  {
   "cell_type": "code",
   "execution_count": 25,
   "metadata": {
    "collapsed": false
   },
   "outputs": [
    {
     "ename": "NameError",
     "evalue": "name 'reduce' is not defined",
     "output_type": "error",
     "traceback": [
      "\u001b[0;31m---------------------------------------------------------------------------\u001b[0m",
      "\u001b[0;31mNameError\u001b[0m                                 Traceback (most recent call last)",
      "\u001b[0;32m<ipython-input-25-fcc0abad65de>\u001b[0m in \u001b[0;36m<module>\u001b[0;34m()\u001b[0m\n\u001b[1;32m      2\u001b[0m     \u001b[0;32mreturn\u001b[0m \u001b[0mreduce\u001b[0m\u001b[0;34m(\u001b[0m\u001b[0;32mlambda\u001b[0m \u001b[0mx\u001b[0m\u001b[0;34m,\u001b[0m\u001b[0my\u001b[0m \u001b[0;34m:\u001b[0m \u001b[0my\u001b[0m\u001b[0;34m+\u001b[0m\u001b[0mx\u001b[0m\u001b[0;34m,\u001b[0m \u001b[0minput\u001b[0m\u001b[0;34m)\u001b[0m\u001b[0;34m\u001b[0m\u001b[0m\n\u001b[1;32m      3\u001b[0m \u001b[0;34m\u001b[0m\u001b[0m\n\u001b[0;32m----> 4\u001b[0;31m \u001b[0mreverse\u001b[0m\u001b[0;34m(\u001b[0m\u001b[0;34m'abcd'\u001b[0m\u001b[0;34m)\u001b[0m\u001b[0;34m\u001b[0m\u001b[0m\n\u001b[0m",
      "\u001b[0;32m<ipython-input-25-fcc0abad65de>\u001b[0m in \u001b[0;36mreverse\u001b[0;34m(input)\u001b[0m\n\u001b[1;32m      1\u001b[0m \u001b[0;32mdef\u001b[0m \u001b[0mreverse\u001b[0m\u001b[0;34m(\u001b[0m\u001b[0minput\u001b[0m\u001b[0;34m)\u001b[0m\u001b[0;34m:\u001b[0m\u001b[0;34m\u001b[0m\u001b[0m\n\u001b[0;32m----> 2\u001b[0;31m     \u001b[0;32mreturn\u001b[0m \u001b[0mreduce\u001b[0m\u001b[0;34m(\u001b[0m\u001b[0;32mlambda\u001b[0m \u001b[0mx\u001b[0m\u001b[0;34m,\u001b[0m\u001b[0my\u001b[0m \u001b[0;34m:\u001b[0m \u001b[0my\u001b[0m\u001b[0;34m+\u001b[0m\u001b[0mx\u001b[0m\u001b[0;34m,\u001b[0m \u001b[0minput\u001b[0m\u001b[0;34m)\u001b[0m\u001b[0;34m\u001b[0m\u001b[0m\n\u001b[0m\u001b[1;32m      3\u001b[0m \u001b[0;34m\u001b[0m\u001b[0m\n\u001b[1;32m      4\u001b[0m \u001b[0mreverse\u001b[0m\u001b[0;34m(\u001b[0m\u001b[0;34m'abcd'\u001b[0m\u001b[0;34m)\u001b[0m\u001b[0;34m\u001b[0m\u001b[0m\n",
      "\u001b[0;31mNameError\u001b[0m: name 'reduce' is not defined"
     ]
    }
   ],
   "source": [
    "def reverse(input):\n",
    "    return reduce(lambda x,y : y+x, input)\n",
    "\n",
    "reverse('abcd')"
   ]
  },
  {
   "cell_type": "code",
   "execution_count": null,
   "metadata": {
    "collapsed": true
   },
   "outputs": [],
   "source": [
    "get_middle('abcde') --> 'c'\n",
    "get_middle('abcdef') --> 'cd'"
   ]
  },
  {
   "cell_type": "code",
   "execution_count": 40,
   "metadata": {
    "collapsed": false
   },
   "outputs": [
    {
     "data": {
      "text/plain": [
       "'cd'"
      ]
     },
     "execution_count": 40,
     "metadata": {},
     "output_type": "execute_result"
    }
   ],
   "source": [
    "def get_middle(a_str):\n",
    "    \n",
    "    if not len(a_str)%2 == 0:#this means a_str size is not even\n",
    "        return a_str[int(len(a_str)/2)]\n",
    "    \n",
    "    else:\n",
    "        start = int(len(a_str)/2)-1\n",
    "        end = int((len(a_str)/2))+1\n",
    "        return a_str[start:end]\n",
    "\n",
    "    "
   ]
  },
  {
   "cell_type": "code",
   "execution_count": 7,
   "metadata": {
    "collapsed": false
   },
   "outputs": [
    {
     "name": "stdout",
     "output_type": "stream",
     "text": [
      "5\n",
      "2.5\n",
      "2\n"
     ]
    }
   ],
   "source": [
    "#a_str = 'abcde'\n",
    "#len(a_str)\n",
    "size = len('abcdefgghiiiijjhjhm')\n",
    "print(size)\n",
    "\n",
    "middle_position = size/2\n",
    "print(middle_position)\n",
    "\n",
    "real_position = int(middle_position)\n",
    "print(real_position)\n",
    "\n"
   ]
  },
  {
   "cell_type": "code",
   "execution_count": 9,
   "metadata": {
    "collapsed": false
   },
   "outputs": [
    {
     "name": "stdout",
     "output_type": "stream",
     "text": [
      "index: 0, letter a\n",
      "index: 1, letter b\n",
      "index: 2, letter c\n",
      "index: 3, letter d\n",
      "index: 4, letter e\n",
      "index: 5, letter f\n",
      "index: 6, letter g\n",
      "index: 7, letter g\n",
      "index: 8, letter h\n",
      "index: 9, letter i\n",
      "index: 10, letter i\n",
      "index: 11, letter i\n",
      "index: 12, letter i\n",
      "index: 13, letter j\n",
      "index: 14, letter j\n",
      "index: 15, letter h\n",
      "index: 16, letter j\n",
      "index: 17, letter h\n",
      "index: 18, letter m\n"
     ]
    }
   ],
   "source": [
    "for index, letter in enumerate('abcdefgghiiiijjhjhm'):\n",
    "    print('index: {}, letter {}'.format(index, letter))"
   ]
  },
  {
   "cell_type": "code",
   "execution_count": null,
   "metadata": {
    "collapsed": true
   },
   "outputs": [],
   "source": [
    "_message = 'i am tom'\n",
    "en_message = '123 7897 999'"
   ]
  },
  {
   "cell_type": "code",
   "execution_count": 14,
   "metadata": {
    "collapsed": false
   },
   "outputs": [
    {
     "name": "stdout",
     "output_type": "stream",
     "text": [
      "a:006\n",
      "b:731\n",
      "c:008\n",
      "d:156\n",
      "e:415\n",
      "f:076\n",
      "g:704\n",
      "h:461\n",
      "i:954\n",
      "j:304\n",
      "k:427\n",
      "l:432\n",
      "m:421\n",
      "n:019\n",
      "o:512\n",
      "p:574\n",
      "q:263\n",
      "r:313\n",
      "s:129\n",
      "t:031\n",
      "u:179\n",
      "v:654\n",
      "w:765\n",
      "x:204\n",
      "y:492\n",
      "z:025\n"
     ]
    }
   ],
   "source": [
    "from random import randint\n",
    "encode_dic = {}\n",
    "\n",
    "for letter in 'abcdefghijklmnopqrstuvwxyz':\n",
    "    encode_dic[letter] = str(randint(0,9))+str(randint(0,9))+str(randint(0,9))\n",
    "\n",
    "for k, v in encode_dic.items():\n",
    "    print('{}:{}'.format(k,v))\n",
    "    \n"
   ]
  },
  {
   "cell_type": "code",
   "execution_count": 16,
   "metadata": {
    "collapsed": false
   },
   "outputs": [
    {
     "name": "stdout",
     "output_type": "stream",
     "text": [
      "954006421031512421\n"
     ]
    }
   ],
   "source": [
    "_message = 'iamtom'\n",
    "output_mess = ''\n",
    "for lett in _message:\n",
    "    output_mess += encode_dic[lett]\n",
    "print(output_mess)"
   ]
  }
 ],
 "metadata": {
  "anaconda-cloud": {},
  "kernelspec": {
   "display_name": "Python 3",
   "language": "python",
   "name": "python3"
  },
  "language_info": {
   "codemirror_mode": {
    "name": "ipython",
    "version": 3
   },
   "file_extension": ".py",
   "mimetype": "text/x-python",
   "name": "python",
   "nbconvert_exporter": "python",
   "pygments_lexer": "ipython3",
   "version": "3.6.0"
  }
 },
 "nbformat": 4,
 "nbformat_minor": 1
}
