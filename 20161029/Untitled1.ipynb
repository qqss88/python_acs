{
 "cells": [
  {
   "cell_type": "code",
   "execution_count": 27,
   "metadata": {
    "collapsed": false
   },
   "outputs": [
    {
     "name": "stdout",
     "output_type": "stream",
     "text": [
      "<type 'float'>\n",
      "<type 'int'>\n",
      "<type 'str'>\n"
     ]
    }
   ],
   "source": [
    "a = 1.0000000000\n",
    "print type(a)\n",
    "b = 1\n",
    "print type(b)\n",
    "c = '1'\n",
    "print type(c)"
   ]
  },
  {
   "cell_type": "code",
   "execution_count": 11,
   "metadata": {
    "collapsed": false
   },
   "outputs": [
    {
     "name": "stdout",
     "output_type": "stream",
     "text": [
      "<type 'str'>\n",
      "4312320512\n"
     ]
    }
   ],
   "source": [
    "with open(\"song.txt\") as my_file: #I am openning a file called song.txt\n",
    "    #this is comment\n",
    "    content = my_file.read()\n",
    "    print type(content)\n",
    "    print id(content)\n",
    "    #print len(content)\n",
    "    #print content.strip()\n"
   ]
  },
  {
   "cell_type": "code",
   "execution_count": 31,
   "metadata": {
    "collapsed": false
   },
   "outputs": [
    {
     "name": "stdout",
     "output_type": "stream",
     "text": [
      "<type 'list'>\n",
      "4368013432\n"
     ]
    }
   ],
   "source": [
    "with open(\"song.txt\") as my_file: #I am openning a file called song.txt\n",
    "    #this is comment\n",
    "    content = my_file.readlines()\n",
    "    print type(content)\n",
    "    print id(content)\n",
    "    #print len(content)\n",
    "    #print content.strip()"
   ]
  },
  {
   "cell_type": "code",
   "execution_count": 35,
   "metadata": {
    "collapsed": false
   },
   "outputs": [
    {
     "name": "stdout",
     "output_type": "stream",
     "text": [
      "hello.                                                          \n",
      "64\n"
     ]
    }
   ],
   "source": [
    "my_str='                                                           '\n",
    "print my_str\n",
    "print len(my_str)"
   ]
  },
  {
   "cell_type": "code",
   "execution_count": null,
   "metadata": {
    "collapsed": true
   },
   "outputs": [],
   "source": []
  },
  {
   "cell_type": "code",
   "execution_count": null,
   "metadata": {
    "collapsed": true
   },
   "outputs": [],
   "source": []
  }
 ],
 "metadata": {
  "anaconda-cloud": {},
  "kernelspec": {
   "display_name": "Python [conda root]",
   "language": "python",
   "name": "conda-root-py"
  },
  "language_info": {
   "codemirror_mode": {
    "name": "ipython",
    "version": 2
   },
   "file_extension": ".py",
   "mimetype": "text/x-python",
   "name": "python",
   "nbconvert_exporter": "python",
   "pygments_lexer": "ipython2",
   "version": "2.7.12"
  }
 },
 "nbformat": 4,
 "nbformat_minor": 1
}
