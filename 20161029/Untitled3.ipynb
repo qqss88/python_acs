{
 "cells": [
  {
   "cell_type": "code",
   "execution_count": 1,
   "metadata": {
    "collapsed": false
   },
   "outputs": [
    {
     "name": "stdout",
     "output_type": "stream",
     "text": [
      "929001\n"
     ]
    }
   ],
   "source": [
    "from random import randint\n",
    "\n",
    "_num = randint(1,1000000)\n",
    "print(_num)"
   ]
  },
  {
   "cell_type": "code",
   "execution_count": 21,
   "metadata": {
    "collapsed": true
   },
   "outputs": [],
   "source": [
    "def make_a_list(start, end=1000, size=50):\n",
    "    list1 = []\n",
    "    for i in range(size):\n",
    "        _num = randint(start,end)\n",
    "        list1.append(_num)\n",
    "    return list1"
   ]
  },
  {
   "cell_type": "code",
   "execution_count": 24,
   "metadata": {
    "collapsed": false
   },
   "outputs": [
    {
     "name": "stdout",
     "output_type": "stream",
     "text": [
      "[551, 793, 318, 692, 853, 164, 786, 909, 26, 262, 6, 145, 907, 342, 789, 339, 481, 375, 486, 170, 59, 435, 757, 323, 359, 158, 717, 237, 751, 187, 252, 538, 221, 392, 87, 785, 93, 480, 410, 136, 355, 705, 907, 525, 358, 247, 982, 269, 445, 178]\n"
     ]
    }
   ],
   "source": [
    "l1 = make_a_list(5)\n",
    "print(l1)"
   ]
  },
  {
   "cell_type": "code",
   "execution_count": 2,
   "metadata": {
    "collapsed": false
   },
   "outputs": [
    {
     "name": "stdout",
     "output_type": "stream",
     "text": [
      "50000\n",
      "[739500, 388329, 23893, 47570, 784787, 193070, 822738, 970626, 565165, 588987]\n"
     ]
    }
   ],
   "source": [
    "list1 = []\n",
    "for i in range(50000):\n",
    "    _num = randint(1,1000000)\n",
    "    list1.append(_num)\n",
    "print(len(list1))\n",
    "print(list1[:10])"
   ]
  },
  {
   "cell_type": "code",
   "execution_count": 3,
   "metadata": {
    "collapsed": false
   },
   "outputs": [
    {
     "name": "stdout",
     "output_type": "stream",
     "text": [
      "50000\n",
      "[606095, 121871, 477451, 556932, 433348, 785034, 484635, 895343, 37003, 428219]\n"
     ]
    }
   ],
   "source": [
    "list2 = []\n",
    "for i in range(50000):\n",
    "    _num = randint(1,1000000)\n",
    "    list2.append(_num)\n",
    "print(len(list2))\n",
    "print(list2[:10])"
   ]
  },
  {
   "cell_type": "code",
   "execution_count": null,
   "metadata": {
    "collapsed": false
   },
   "outputs": [],
   "source": [
    "list1 = [5,5,5,6,6,7]\n",
    "s1 = set(list1)\n",
    "print(s1)\n",
    "a_dic ={'a':5, 'b':6}"
   ]
  },
  {
   "cell_type": "code",
   "execution_count": 4,
   "metadata": {
    "collapsed": false
   },
   "outputs": [],
   "source": [
    "def list_search():\n",
    "    l_common = []\n",
    "    for list1_num in list1:\n",
    "        if list1_num in list2:\n",
    "            l_common.append(list1_num)\n",
    "    #print(len(l_common))  \n",
    "    #print(l_common)"
   ]
  },
  {
   "cell_type": "code",
   "execution_count": 5,
   "metadata": {
    "collapsed": false
   },
   "outputs": [],
   "source": [
    "def set_search():\n",
    "    l_common = []\n",
    "    set2 = set(list2)\n",
    "    for list1_num in list1:\n",
    "        if list1_num in set2:\n",
    "            l_common.append(list1_num)\n",
    "    #print(len(l_common))  \n",
    "    #print(l_common)"
   ]
  },
  {
   "cell_type": "code",
   "execution_count": 7,
   "metadata": {
    "collapsed": false
   },
   "outputs": [
    {
     "name": "stdout",
     "output_type": "stream",
     "text": [
      "1 loop, best of 3: 40.3 s per loop\n"
     ]
    }
   ],
   "source": [
    "%timeit list_search()"
   ]
  },
  {
   "cell_type": "code",
   "execution_count": 6,
   "metadata": {
    "collapsed": false
   },
   "outputs": [
    {
     "name": "stdout",
     "output_type": "stream",
     "text": [
      "100 loops, best of 3: 5.93 ms per loop\n"
     ]
    }
   ],
   "source": [
    "%timeit set_search()"
   ]
  },
  {
   "cell_type": "code",
   "execution_count": null,
   "metadata": {
    "collapsed": true
   },
   "outputs": [],
   "source": []
  },
  {
   "cell_type": "code",
   "execution_count": null,
   "metadata": {
    "collapsed": true
   },
   "outputs": [],
   "source": []
  },
  {
   "cell_type": "code",
   "execution_count": null,
   "metadata": {
    "collapsed": true
   },
   "outputs": [],
   "source": []
  },
  {
   "cell_type": "code",
   "execution_count": null,
   "metadata": {
    "collapsed": true
   },
   "outputs": [],
   "source": []
  },
  {
   "cell_type": "code",
   "execution_count": null,
   "metadata": {
    "collapsed": true
   },
   "outputs": [],
   "source": []
  },
  {
   "cell_type": "code",
   "execution_count": null,
   "metadata": {
    "collapsed": true
   },
   "outputs": [],
   "source": []
  }
 ],
 "metadata": {
  "kernelspec": {
   "display_name": "Python 3",
   "language": "python",
   "name": "python3"
  },
  "language_info": {
   "codemirror_mode": {
    "name": "ipython",
    "version": 3
   },
   "file_extension": ".py",
   "mimetype": "text/x-python",
   "name": "python",
   "nbconvert_exporter": "python",
   "pygments_lexer": "ipython3",
   "version": "3.6.0"
  }
 },
 "nbformat": 4,
 "nbformat_minor": 2
}
