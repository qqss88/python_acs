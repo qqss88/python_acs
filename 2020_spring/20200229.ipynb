{
 "cells": [
  {
   "cell_type": "code",
   "execution_count": 4,
   "metadata": {},
   "outputs": [
    {
     "name": "stdout",
     "output_type": "stream",
     "text": [
      "<sqlite3.Connection object at 0x10e23b730>\n"
     ]
    }
   ],
   "source": [
    "import sqlite3\n",
    "\n",
    "con = sqlite3.connect('my_second_database.db')\n",
    "print(con)"
   ]
  },
  {
   "cell_type": "code",
   "execution_count": 2,
   "metadata": {},
   "outputs": [],
   "source": [
    "from sqlite3 import Error\n",
    "\n",
    "def sql_connection():\n",
    "    con = sqlite3.connect('my_first_database.db')\n",
    "    return con\n",
    "\n",
    "#     try:\n",
    "\n",
    "#         con = sqlite3.connect('my_first_database.db')\n",
    "\n",
    "#         return con\n",
    "\n",
    "#     except Error:\n",
    "\n",
    "#         print(Error)\n",
    "\n",
    "def create_table(con):\n",
    "\n",
    "    cursor = con.cursor()\n",
    "\n",
    "    cursor.execute(\"CREATE TABLE employees(id integer PRIMARY KEY, name text, salary real, department text, position text, hireDate text)\")\n",
    "\n",
    "    con.commit()\n",
    "\n",
    "con = sql_connection()\n",
    "create_table(con)"
   ]
  },
  {
   "cell_type": "code",
   "execution_count": 3,
   "metadata": {},
   "outputs": [],
   "source": [
    "def sql_insert(con, entities):\n",
    "\n",
    "    cursorObj = con.cursor()\n",
    "    \n",
    "    cursorObj.execute('INSERT INTO employees(id, name, salary, department, position, hireDate) VALUES(1, 'tom', ?, ?, ?, ?)', entities)\n",
    "    \n",
    "    con.commit()\n",
    "\n",
    "entities = (2, 'Andrew', 800, 'IT', 'Tech', '2018-02-06')\n",
    "\n",
    "sql_insert(con, entities)"
   ]
  }
 ],
 "metadata": {
  "kernelspec": {
   "display_name": "Python 3",
   "language": "python",
   "name": "python3"
  },
  "language_info": {
   "codemirror_mode": {
    "name": "ipython",
    "version": 3
   },
   "file_extension": ".py",
   "mimetype": "text/x-python",
   "name": "python",
   "nbconvert_exporter": "python",
   "pygments_lexer": "ipython3",
   "version": "3.6.5"
  }
 },
 "nbformat": 4,
 "nbformat_minor": 2
}
