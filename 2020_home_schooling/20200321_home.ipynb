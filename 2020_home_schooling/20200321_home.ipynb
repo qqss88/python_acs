{
 "cells": [
  {
   "cell_type": "code",
   "execution_count": 33,
   "metadata": {},
   "outputs": [
    {
     "name": "stdout",
     "output_type": "stream",
     "text": [
      "hello, stella!! hello, stella!! hello, stella!! hello, stella!! hello, stella!! hello, stella!! hello, stella!! hello, stella!! hello, stella!! hello, stella!! \n"
     ]
    }
   ],
   "source": [
    "# print for fun\n",
    "print('hello, stella!! ' * 10)"
   ]
  },
  {
   "cell_type": "code",
   "execution_count": 29,
   "metadata": {},
   "outputs": [
    {
     "name": "stdout",
     "output_type": "stream",
     "text": [
      "jupyter notebook is awesome\n"
     ]
    }
   ],
   "source": [
    "# you are learning python in jupyter notebook\n",
    "print(\"jupyter notebook is awesome\")"
   ]
  },
  {
   "cell_type": "code",
   "execution_count": 31,
   "metadata": {},
   "outputs": [
    {
     "data": {
      "text/plain": [
       "19.8"
      ]
     },
     "execution_count": 31,
     "metadata": {},
     "output_type": "execute_result"
    }
   ],
   "source": [
    "# you can do quick math\n",
    "99 / 5"
   ]
  },
  {
   "cell_type": "code",
   "execution_count": null,
   "metadata": {
    "collapsed": true
   },
   "outputs": [],
   "source": [
    "# pls register account with trello\n",
    "# 'www.trello.com'"
   ]
  },
  {
   "cell_type": "code",
   "execution_count": 2,
   "metadata": {
    "collapsed": true
   },
   "outputs": [],
   "source": [
    "# a puzzle game and how you can resolve it in one line of python code\n",
    "my_puzzle = \"\"\"\n",
    "MMMMMMMMMMMMMMMMMMMMMMMMMNNMMMMMMM\n",
    "MMMMMMMMMMNMMMMMMMMMMMMMMMMMMMMMMM\n",
    "MMMMMMMMMMMMMMMMNMMMMMMMMMMMMMMMMM\n",
    "MMMMMMMMMMMMMMMMMMMMMMMMMMMMMMMMMM\n",
    "MMMMMMMMMMNMMMMMMMMMMMMMMMMMMMMMMM\n",
    "MMMMMMMMMMMMMMMMNMMMMMMMMMMMMMMMMM\n",
    "\"\"\""
   ]
  },
  {
   "cell_type": "code",
   "execution_count": 13,
   "metadata": {},
   "outputs": [
    {
     "data": {
      "text/plain": [
       "6"
      ]
     },
     "execution_count": 13,
     "metadata": {},
     "output_type": "execute_result"
    }
   ],
   "source": [
    "# here is the solution\n",
    "my_puzzle.count('N')"
   ]
  },
  {
   "cell_type": "code",
   "execution_count": 1,
   "metadata": {
    "collapsed": true
   },
   "outputs": [],
   "source": [
    "# here is a even bigger one\n",
    "my_puzzle2 = \"\"\"\n",
    "MMMMMMMMMMMMMMMMMMMMMMMMMNNMMMMMMM\n",
    "MMMMMMMMMMNMMMMMMMMMMMMMMMMMMMMMMM\n",
    "MMMMMMMMMMMMMMMMNMMMMMMMMMMMMMMMMM\n",
    "MMMMMMMMMMMMMMMMMMMMMMMMMMMMMMMMMM\n",
    "MMMMMMMMMMNMMMMMMMMMMMMMMMMMMMMMMM\n",
    "MMMMMMMMMMMMMMMMNMMMMMMMMMMMMMMMMM\n",
    "MMMMMMMMMMMMMMMMMMMMMMMMMNNMMMMMMM\n",
    "MMMMMMMMMMNMMMMMMMMMMMMMMMMMMMMMMM\n",
    "MMMMMMMMMMMMMMMMNMMMMMMMMMMMMMMMMM\n",
    "MMMMMMMMMMMMMMMMMMMMMMMMMMMMMMMMMM\n",
    "MMMMMMMMMMNMMMMMMMMMMMMMMMMMMMMMMM\n",
    "MMMMMMMMMMMMMMMMNMMMMMMMMMMMMMMMMM\n",
    "MMMMMMMMMMMMMMMMMMMMMMMMMNNMMMMMMM\n",
    "MMMMMMMMMMNMMMMMMMMMMMMMMMMMMMMMMM\n",
    "MMMMMMMMMMMMMMMMNMMMMMMMMMMMMMMMMM\n",
    "MMMMMMMMMMMMMMMMMMMMMMMMMMMMMMMMMM\n",
    "MMMMMMMMMMNMMMMMMMMMMMMMMMMMMMMMMM\n",
    "MMMMMMMMMMMMMMMMNMMMMMMMMMMMMMMMMM\n",
    "\"\"\""
   ]
  },
  {
   "cell_type": "code",
   "execution_count": 2,
   "metadata": {},
   "outputs": [
    {
     "data": {
      "text/plain": [
       "18"
      ]
     },
     "execution_count": 2,
     "metadata": {},
     "output_type": "execute_result"
    }
   ],
   "source": [
    "my_puzzle2.count('N')"
   ]
  },
  {
   "cell_type": "code",
   "execution_count": 3,
   "metadata": {},
   "outputs": [
    {
     "data": {
      "text/plain": [
       "594"
      ]
     },
     "execution_count": 3,
     "metadata": {},
     "output_type": "execute_result"
    }
   ],
   "source": [
    "# you can count M too\n",
    "my_puzzle2.count('M')"
   ]
  },
  {
   "cell_type": "code",
   "execution_count": 19,
   "metadata": {},
   "outputs": [
    {
     "data": {
      "text/plain": [
       "9449772114007"
      ]
     },
     "execution_count": 19,
     "metadata": {},
     "output_type": "execute_result"
    }
   ],
   "source": [
    "# math with big number\n",
    "1234567 * 7654321"
   ]
  },
  {
   "cell_type": "code",
   "execution_count": 20,
   "metadata": {},
   "outputs": [
    {
     "data": {
      "text/plain": [
       "55"
      ]
     },
     "execution_count": 20,
     "metadata": {},
     "output_type": "execute_result"
    }
   ],
   "source": [
    "# continue adding\n",
    "1 + 2 + 3+ 4 + 5 + 6 + 7 + 8 + 9 + 10"
   ]
  },
  {
   "cell_type": "code",
   "execution_count": 21,
   "metadata": {},
   "outputs": [
    {
     "data": {
      "text/plain": [
       "5050"
      ]
     },
     "execution_count": 21,
     "metadata": {},
     "output_type": "execute_result"
    }
   ],
   "source": [
    "# a smart way of calculation - adding 1 all the way to 100\n",
    "(1 + 100)*50"
   ]
  },
  {
   "cell_type": "code",
   "execution_count": 4,
   "metadata": {},
   "outputs": [
    {
     "name": "stdout",
     "output_type": "stream",
     "text": [
      "5050\n"
     ]
    }
   ],
   "source": [
    "# this is the python way of adding 1 to 100:\n",
    "_sum = 0\n",
    "for num in range(101): \n",
    "    _sum = _sum + num\n",
    "print(_sum)\n",
    "    "
   ]
  },
  {
   "cell_type": "code",
   "execution_count": 23,
   "metadata": {},
   "outputs": [
    {
     "data": {
      "text/plain": [
       "[0, 1, 2, 3, 4, 5, 6, 7, 8, 9, 10]"
      ]
     },
     "execution_count": 23,
     "metadata": {},
     "output_type": "execute_result"
    }
   ],
   "source": [
    "list(range(11))"
   ]
  },
  {
   "cell_type": "code",
   "execution_count": null,
   "metadata": {
    "collapsed": true
   },
   "outputs": [],
   "source": []
  },
  {
   "cell_type": "code",
   "execution_count": null,
   "metadata": {
    "collapsed": true
   },
   "outputs": [],
   "source": []
  },
  {
   "cell_type": "code",
   "execution_count": null,
   "metadata": {
    "collapsed": true
   },
   "outputs": [],
   "source": []
  },
  {
   "cell_type": "code",
   "execution_count": 9,
   "metadata": {},
   "outputs": [
    {
     "name": "stdout",
     "output_type": "stream",
     "text": [
      "['M', 'N']\n",
      "[198, 6]\n"
     ]
    },
    {
     "data": {
      "image/png": "[encoded data removed]",
      "text/plain": [
       "<matplotlib.figure.Figure at 0x7fa2492e80b8>"
      ]
     },
     "metadata": {},
     "output_type": "display_data"
    }
   ],
   "source": [
    "# a simple data science viz demo for counting M and N\n",
    "\n",
    "from collections import Counter\n",
    "import numpy as np\n",
    "import matplotlib.pyplot as plt\n",
    "%matplotlib inline\n",
    "\n",
    "_puzzle = my_puzzle\n",
    "labels, values = ([item[0] for item in Counter(_puzzle).items() if item[0]!='\\n'], \n",
    "                  [item[1] for item in Counter(_puzzle).items() if item[0]!='\\n']\n",
    "                 )\n",
    "print(labels)\n",
    "print(values)\n",
    "indexes = np.arange(len(labels))\n",
    "width = 1\n",
    "\n",
    "plt.bar(indexes, values, width)\n",
    "plt.xticks(indexes + width*0.1, labels)\n",
    "plt.show()"
   ]
  }
 ],
 "metadata": {
  "kernelspec": {
   "display_name": "Python 3",
   "language": "python",
   "name": "python3"
  },
  "language_info": {
   "codemirror_mode": {
    "name": "ipython",
    "version": 3
   },
   "file_extension": ".py",
   "mimetype": "text/x-python",
   "name": "python",
   "nbconvert_exporter": "python",
   "pygments_lexer": "ipython3",
   "version": "3.6.1"
  }
 },
 "nbformat": 4,
 "nbformat_minor": 2
}
