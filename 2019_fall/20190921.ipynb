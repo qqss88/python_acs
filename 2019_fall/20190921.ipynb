{
 "cells": [
  {
   "cell_type": "markdown",
   "metadata": {},
   "source": [
    "# TO-DO list:\n",
    "\n",
    "1. book my contact info if you still don't have it:\n",
    "\n",
    "   name: sun, qiang(charlie) 孙老师\n",
    "   cell: 240-406-4949\n",
    "   email: qqss88@gmail.com\n",
    "   wechat_id: sunsine16da8\n",
    "   \n",
    "2. again trello account if you still don't have one:\n",
    "regsiter a trello account and send me a email and \n",
    "I'll add you to our class website\n",
    "\n",
    "3. prepare your computer for python coding:\n",
    "\n",
    "https://www.anaconda.com/distribution/\n",
    "\n",
    "4. review:\n",
    "\n",
    "what is a variable? how to define a variable\n",
    "what is type() function, what is id()\n",
    "\n",
    "5. what is function? how to define a function:\n",
    "\n",
    "\n",
    "6. watch this video in the end:\n",
    "\n",
    "https://www.khanacademy.org/computing/computer-science/how-computers-work2/v/khan-academy-and-codeorg-introducing-how-computers-work\n",
    "\n",
    "\n",
    "7. questions???\n",
    "\n",
    "\n",
    "# Topics\n",
    "\n",
    "review:\n",
    "- data and data types\n",
    "- variable: give your data a name\n",
    "- type(), id()\n",
    "\n",
    "new:\n",
    "what is a function? how to define your first function in python?\n"
   ]
  },
  {
   "cell_type": "code",
   "execution_count": 11,
   "metadata": {},
   "outputs": [
    {
     "name": "stdout",
     "output_type": "stream",
     "text": [
      "hello, charlie: welcome to python\n"
     ]
    }
   ],
   "source": [
    "my_name = 'charlie'\n",
    "print('hello, {}: welcome to python'.format(my_name))"
   ]
  },
  {
   "cell_type": "code",
   "execution_count": 13,
   "metadata": {},
   "outputs": [],
   "source": [
    "def print_hello(name):\n",
    "    print('hello, {}: welcome to python'.format(name))"
   ]
  },
  {
   "cell_type": "code",
   "execution_count": 25,
   "metadata": {},
   "outputs": [
    {
     "ename": "SyntaxError",
     "evalue": "Missing parentheses in call to 'print'. Did you mean print('hello')? (<ipython-input-25-b18297084800>, line 3)",
     "output_type": "error",
     "traceback": [
      "\u001b[0;36m  File \u001b[0;32m\"<ipython-input-25-b18297084800>\"\u001b[0;36m, line \u001b[0;32m3\u001b[0m\n\u001b[0;31m    print 'hello'\u001b[0m\n\u001b[0m                ^\u001b[0m\n\u001b[0;31mSyntaxError\u001b[0m\u001b[0;31m:\u001b[0m Missing parentheses in call to 'print'. Did you mean print('hello')?\n"
     ]
    }
   ],
   "source": [
    "print_hello(my_name)\n",
    "\n",
    "print 'hello'"
   ]
  },
  {
   "cell_type": "code",
   "execution_count": 27,
   "metadata": {},
   "outputs": [
    {
     "data": {
      "text/plain": [
       "range(0, 10)"
      ]
     },
     "execution_count": 27,
     "metadata": {},
     "output_type": "execute_result"
    }
   ],
   "source": [
    "range(10)"
   ]
  },
  {
   "cell_type": "code",
   "execution_count": 15,
   "metadata": {},
   "outputs": [
    {
     "name": "stdout",
     "output_type": "stream",
     "text": [
      "hello, john: welcome to python\n"
     ]
    }
   ],
   "source": [
    "your_name = 'john'\n",
    "print_hello(your_name)"
   ]
  },
  {
   "cell_type": "code",
   "execution_count": 26,
   "metadata": {},
   "outputs": [
    {
     "name": "stdout",
     "output_type": "stream",
     "text": [
      "3626\n"
     ]
    }
   ],
   "source": [
    "def add_number(start, end):\n",
    "    my_sum = 0\n",
    "    for one_num in range(start,end):\n",
    "        my_sum = my_sum + one_num\n",
    "    return my_sum\n",
    "    \n",
    "_sum = add_number(50, 99)\n",
    "print(_sum)"
   ]
  },
  {
   "cell_type": "code",
   "execution_count": 19,
   "metadata": {},
   "outputs": [
    {
     "name": "stdout",
     "output_type": "stream",
     "text": [
      "5050\n"
     ]
    }
   ],
   "source": [
    "add_number(1,101)"
   ]
  },
  {
   "cell_type": "code",
   "execution_count": 21,
   "metadata": {},
   "outputs": [
    {
     "name": "stdout",
     "output_type": "stream",
     "text": [
      "4999550500\n"
     ]
    }
   ],
   "source": [
    "add_number(1000,100001)"
   ]
  },
  {
   "cell_type": "code",
   "execution_count": 5,
   "metadata": {},
   "outputs": [
    {
     "data": {
      "text/plain": [
       "float"
      ]
     },
     "execution_count": 5,
     "metadata": {},
     "output_type": "execute_result"
    }
   ],
   "source": [
    "my_age = 8.6\n",
    "type(my_age)"
   ]
  },
  {
   "cell_type": "code",
   "execution_count": 7,
   "metadata": {},
   "outputs": [],
   "source": [
    "a_bool = False"
   ]
  },
  {
   "cell_type": "code",
   "execution_count": 8,
   "metadata": {},
   "outputs": [
    {
     "data": {
      "text/plain": [
       "4416928608"
      ]
     },
     "execution_count": 8,
     "metadata": {},
     "output_type": "execute_result"
    }
   ],
   "source": [
    "id(a_bool)"
   ]
  },
  {
   "cell_type": "code",
   "execution_count": 9,
   "metadata": {},
   "outputs": [],
   "source": [
    "def print_hello(name):\n",
    "    to_print = 'hello, {}: welcome to python'.format(name)\n",
    "    print(to_print)"
   ]
  },
  {
   "cell_type": "code",
   "execution_count": 10,
   "metadata": {},
   "outputs": [
    {
     "name": "stdout",
     "output_type": "stream",
     "text": [
      "hello, charlie: welcome to python\n"
     ]
    }
   ],
   "source": [
    "print_hello(my_name)"
   ]
  },
  {
   "cell_type": "code",
   "execution_count": 11,
   "metadata": {},
   "outputs": [
    {
     "name": "stdout",
     "output_type": "stream",
     "text": [
      "hello, john: welcome to python\n"
     ]
    }
   ],
   "source": [
    "your_name = 'john'\n",
    "print_hello(your_name)"
   ]
  },
  {
   "cell_type": "code",
   "execution_count": null,
   "metadata": {},
   "outputs": [],
   "source": []
  },
  {
   "cell_type": "code",
   "execution_count": 25,
   "metadata": {},
   "outputs": [
    {
     "data": {
      "text/plain": [
       "int"
      ]
     },
     "execution_count": 25,
     "metadata": {},
     "output_type": "execute_result"
    }
   ],
   "source": [
    "a_num = 100\n",
    "type(a_num)\n"
   ]
  },
  {
   "cell_type": "code",
   "execution_count": 29,
   "metadata": {},
   "outputs": [
    {
     "data": {
      "text/plain": [
       "4422602448"
      ]
     },
     "execution_count": 29,
     "metadata": {},
     "output_type": "execute_result"
    }
   ],
   "source": [
    "a_num = 99.99\n",
    "type(a_num)\n",
    "id(a_num)"
   ]
  },
  {
   "cell_type": "code",
   "execution_count": 24,
   "metadata": {},
   "outputs": [
    {
     "data": {
      "text/plain": [
       "bool"
      ]
     },
     "execution_count": 24,
     "metadata": {},
     "output_type": "execute_result"
    }
   ],
   "source": [
    "float_num = 1.23\n",
    "int_num = 10\n",
    "my_info = \"\"\"\n",
    "   my name is charlie,\n",
    "my age is 10\n",
    "\"\"\"\n",
    "# print(my_info)\n",
    "a_bool = True\n",
    "type(a_bool)"
   ]
  },
  {
   "cell_type": "code",
   "execution_count": 9,
   "metadata": {},
   "outputs": [],
   "source": [
    "students = []\n",
    "# student_data = []\n",
    "stu_nam"
   ]
  },
  {
   "cell_type": "code",
   "execution_count": 17,
   "metadata": {},
   "outputs": [
    {
     "name": "stdout",
     "output_type": "stream",
     "text": [
      "enter your name:\n",
      "dennis\n",
      "enter your age:\n",
      "11\n",
      "are you boy or girl:\n",
      "boy\n",
      "what is your hobby:\n",
      "gaming\n"
     ]
    }
   ],
   "source": [
    "student_data = []\n",
    "\n",
    "print('enter your name:')\n",
    "student_name = input()\n",
    "\n",
    "print('enter your age:')\n",
    "student_age = input()\n",
    "\n",
    "print('are you boy or girl:')\n",
    "student_sex = input()\n",
    "\n",
    "print('what is your hobby:')\n",
    "student_hobby = input()\n",
    "\n",
    "student_data.append(student_name)\n",
    "student_data.append(student_age)\n",
    "student_data.append(student_sex)\n",
    "student_data.append(student_hobby)\n",
    "\n",
    "students.append(student_data)"
   ]
  },
  {
   "cell_type": "code",
   "execution_count": 11,
   "metadata": {},
   "outputs": [
    {
     "name": "stdout",
     "output_type": "stream",
     "text": [
      "[['ivy', '10', 'gril', 'drawing']]\n"
     ]
    }
   ],
   "source": [
    "print(students)"
   ]
  },
  {
   "cell_type": "code",
   "execution_count": 33,
   "metadata": {},
   "outputs": [
    {
     "name": "stdout",
     "output_type": "stream",
     "text": [
      "5050\n"
     ]
    }
   ],
   "source": [
    "my_sum = 0\n",
    "for one_num in range(1,101):\n",
    "    my_sum = my_sum + one_num\n",
    "print(my_sum)"
   ]
  },
  {
   "cell_type": "code",
   "execution_count": 31,
   "metadata": {},
   "outputs": [
    {
     "data": {
      "text/plain": [
       "[1, 2, 3, 4, 5, 6, 7, 8, 9]"
      ]
     },
     "execution_count": 31,
     "metadata": {},
     "output_type": "execute_result"
    }
   ],
   "source": [
    "list(range(1,10))"
   ]
  },
  {
   "cell_type": "code",
   "execution_count": 6,
   "metadata": {},
   "outputs": [
    {
     "data": {
      "text/plain": [
       "5050"
      ]
     },
     "execution_count": 6,
     "metadata": {},
     "output_type": "execute_result"
    }
   ],
   "source": [
    "sum(range(1,101))"
   ]
  },
  {
   "cell_type": "code",
   "execution_count": 8,
   "metadata": {},
   "outputs": [
    {
     "name": "stdout",
     "output_type": "stream",
     "text": [
      "not a primer\n",
      "7\n"
     ]
    }
   ],
   "source": [
    "my_num = 1001\n",
    "is_prime = True\n",
    "for num in range(2, my_num):\n",
    "    if 1001 % num == 0:\n",
    "        print('not a primer')\n",
    "        print(num)\n",
    "        is_prime = False\n",
    "        break\n",
    "if is_prime:\n",
    "    print('yes, a prime')"
   ]
  }
 ],
 "metadata": {
  "kernelspec": {
   "display_name": "Python 3",
   "language": "python",
   "name": "python3"
  },
  "language_info": {
   "codemirror_mode": {
    "name": "ipython",
    "version": 3
   },
   "file_extension": ".py",
   "mimetype": "text/x-python",
   "name": "python",
   "nbconvert_exporter": "python",
   "pygments_lexer": "ipython3",
   "version": "3.6.5"
  }
 },
 "nbformat": 4,
 "nbformat_minor": 2
}
