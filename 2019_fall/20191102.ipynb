{
 "cells": [
  {
   "cell_type": "markdown",
   "metadata": {},
   "source": [
    "# TODO List\n",
    "\n",
    "    1. watch youtube video:\n",
    "\n",
    "    2. code review: how to check a number is a prime number\n",
    "    \n",
    "    3. resolve a question: find out all prime numbers in (1, 100)\n",
    "\n",
    "\n",
    "\n",
    "# Lab Session:\n",
    "\n",
    "    1. youtube-dl demo\n",
    "\n",
    "    2. download youtube videos: \n",
    "\n",
    "        -- microsoft python tutorial:\n",
    "        https://www.youtube.com/playlist?list=PLlrxD0HtieHhS8VzuMCfQD4uJ9yne1mE6\n",
    "\n",
    "# HW: \n",
    "\n",
    "    1. review check_prime code\n",
    "    2. checkout the microsoft youtube tutorial\n",
    "\n",
    "\n",
    "\n",
    "Questions: trello? anaconda? other?"
   ]
  },
  {
   "cell_type": "code",
   "execution_count": 1,
   "metadata": {},
   "outputs": [
    {
     "name": "stdout",
     "output_type": "stream",
     "text": [
      "0.0\n",
      "2.0\n",
      "1.8708286933869707\n"
     ]
    }
   ],
   "source": [
    "# Python3 program to demonstrate the  \n",
    "# sqrt() method  \n",
    "  \n",
    "# import the math module  \n",
    "import math  \n",
    "  \n",
    "# print the square root of  0  \n",
    "print(math.sqrt(0))  \n",
    "  \n",
    "# print the square root of 4 \n",
    "print(math.sqrt(4))  \n",
    "  \n",
    "# print the square root of 3.5 \n",
    "print(math.sqrt(3.5))  "
   ]
  },
  {
   "cell_type": "code",
   "execution_count": 2,
   "metadata": {},
   "outputs": [
    {
     "name": "stdout",
     "output_type": "stream",
     "text": [
      "2.23606797749979\n"
     ]
    },
    {
     "data": {
      "text/plain": [
       "2"
      ]
     },
     "execution_count": 2,
     "metadata": {},
     "output_type": "execute_result"
    }
   ],
   "source": [
    "from math import sqrt\n",
    "print(sqrt(5))\n",
    "int(sqrt(5))"
   ]
  }
 ],
 "metadata": {
  "kernelspec": {
   "display_name": "Python 3",
   "language": "python",
   "name": "python3"
  },
  "language_info": {
   "codemirror_mode": {
    "name": "ipython",
    "version": 3
   },
   "file_extension": ".py",
   "mimetype": "text/x-python",
   "name": "python",
   "nbconvert_exporter": "python",
   "pygments_lexer": "ipython3",
   "version": "3.6.1"
  }
 },
 "nbformat": 4,
 "nbformat_minor": 2
}
