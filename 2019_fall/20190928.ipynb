{
 "cells": [
  {
   "cell_type": "markdown",
   "metadata": {},
   "source": [
    "# TODO List\n",
    "\n",
    "1. watch this video:\n",
    "\n",
    "https://www.youtube.com/watch?v=OAx_6-wdslM\n",
    "\n",
    "think tank: what is a computer? \n",
    "https://en.wikipedia.org/wiki/Alan_Turing\n",
    "\n",
    "2. review: vaiable and function\n",
    "\n",
    "3. use jupyter notebook as a math calculator\n",
    "\n",
    "https://www.tutorialspoint.com/python/python_numbers.htm\n",
    "\n",
    "4. lab session\n",
    "\n",
    "Questions: trello? anaconda? other?\n",
    "    "
   ]
  },
  {
   "cell_type": "code",
   "execution_count": 1,
   "metadata": {
    "collapsed": true
   },
   "outputs": [],
   "source": [
    "students = []\n",
    "name = 'Ivy'\n",
    "students.append(name)"
   ]
  },
  {
   "cell_type": "code",
   "execution_count": 2,
   "metadata": {},
   "outputs": [
    {
     "data": {
      "text/plain": [
       "['Ivy']"
      ]
     },
     "execution_count": 2,
     "metadata": {},
     "output_type": "execute_result"
    }
   ],
   "source": [
    "students"
   ]
  },
  {
   "cell_type": "code",
   "execution_count": 4,
   "metadata": {
    "collapsed": true
   },
   "outputs": [],
   "source": [
    "name = 'Alan'\n",
    "students.append(name)\n",
    "name = 'Mary'\n",
    "students.append(name)\n",
    "name = 'Isabel'\n",
    "students.append(name)\n",
    "name = 'Alex'\n",
    "students.append(name)\n",
    "name = 'Dennis'\n",
    "students.append(name)\n",
    "name = 'Melissa'\n",
    "students.append(name)\n",
    "name = 'keyon'\n",
    "students.append(name)\n",
    "name = 'AlanS'\n",
    "students.append(name)"
   ]
  },
  {
   "cell_type": "code",
   "execution_count": 5,
   "metadata": {},
   "outputs": [
    {
     "data": {
      "text/plain": [
       "['Ivy',\n",
       " 'Alan',\n",
       " 'Alan',\n",
       " 'Mary',\n",
       " 'Isabel',\n",
       " 'Alex',\n",
       " 'Dennis',\n",
       " 'Melissa',\n",
       " 'keyon',\n",
       " 'AlanS']"
      ]
     },
     "execution_count": 5,
     "metadata": {},
     "output_type": "execute_result"
    }
   ],
   "source": [
    "students"
   ]
  },
  {
   "cell_type": "code",
   "execution_count": 7,
   "metadata": {},
   "outputs": [
    {
     "data": {
      "text/plain": [
       "'Alan'"
      ]
     },
     "execution_count": 7,
     "metadata": {},
     "output_type": "execute_result"
    }
   ],
   "source": [
    "from random import choice\n",
    "\n",
    "def pick_a_name(names):\n",
    "    return choice(names)\n",
    "\n",
    "pick_a_name(students)"
   ]
  },
  {
   "cell_type": "code",
   "execution_count": null,
   "metadata": {
    "collapsed": true
   },
   "outputs": [],
   "source": []
  },
  {
   "cell_type": "code",
   "execution_count": null,
   "metadata": {
    "collapsed": true
   },
   "outputs": [],
   "source": []
  },
  {
   "cell_type": "code",
   "execution_count": null,
   "metadata": {
    "collapsed": true
   },
   "outputs": [],
   "source": []
  }
 ],
 "metadata": {
  "kernelspec": {
   "display_name": "Python 3",
   "language": "python",
   "name": "python3"
  },
  "language_info": {
   "codemirror_mode": {
    "name": "ipython",
    "version": 3
   },
   "file_extension": ".py",
   "mimetype": "text/x-python",
   "name": "python",
   "nbconvert_exporter": "python",
   "pygments_lexer": "ipython3",
   "version": "3.6.1"
  }
 },
 "nbformat": 4,
 "nbformat_minor": 2
}
