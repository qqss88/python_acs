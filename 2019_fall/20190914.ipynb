{
 "cells": [
  {
   "cell_type": "markdown",
   "metadata": {},
   "source": [
    "# TO-DO list:\n",
    "\n",
    "1. book my contact info:\n",
    "\n",
    "   name: sun, qiang(charlie) 孙老师\n",
    "   cell: 240-406-4949\n",
    "   email: qqss88@gmail.com\n",
    "   wechat_id: sunsine16da8\n",
    "   \n",
    "2. regsiter a trello account and send me a email - I'll add you to our class website\n",
    "\n",
    "3. prepare your computer for python coding:\n",
    "\n",
    "https://www.anaconda.com/distribution/\n",
    "\n",
    "4. watch this video:\n",
    "\n",
    "https://www.khanacademy.org/computing/computer-science/how-computers-work2/v/khan-academy-and-codeorg-introducing-how-computers-work\n",
    "\n",
    "5. start this free python tutorial:\n",
    "\n",
    "https://www.codecademy.com/learn/learn-python\n",
    "\n",
    "6. ask your questions\n",
    "\n",
    "\n",
    "# Topics\n",
    "\n",
    "- data and data types\n",
    "- variable: give your data a name\n",
    "- type(), id()\n"
   ]
  },
  {
   "cell_type": "code",
   "execution_count": 7,
   "metadata": {},
   "outputs": [
    {
     "name": "stdout",
     "output_type": "stream",
     "text": [
      "hello, charlie\n"
     ]
    }
   ],
   "source": [
    "my_name = 'charlie'\n",
    "print('hello, {}'.format(my_name))"
   ]
  },
  {
   "cell_type": "code",
   "execution_count": null,
   "metadata": {},
   "outputs": [],
   "source": [
    "100100111"
   ]
  },
  {
   "cell_type": "code",
   "execution_count": 25,
   "metadata": {},
   "outputs": [
    {
     "data": {
      "text/plain": [
       "int"
      ]
     },
     "execution_count": 25,
     "metadata": {},
     "output_type": "execute_result"
    }
   ],
   "source": [
    "a_num = 100\n",
    "type(a_num)\n"
   ]
  },
  {
   "cell_type": "code",
   "execution_count": 29,
   "metadata": {},
   "outputs": [
    {
     "data": {
      "text/plain": [
       "4422602448"
      ]
     },
     "execution_count": 29,
     "metadata": {},
     "output_type": "execute_result"
    }
   ],
   "source": [
    "a_num = 99.99\n",
    "type(a_num)\n",
    "id(a_num)"
   ]
  },
  {
   "cell_type": "code",
   "execution_count": 24,
   "metadata": {},
   "outputs": [
    {
     "data": {
      "text/plain": [
       "bool"
      ]
     },
     "execution_count": 24,
     "metadata": {},
     "output_type": "execute_result"
    }
   ],
   "source": [
    "float_num = 1.23\n",
    "int_num = 10\n",
    "my_info = \"\"\"\n",
    "   my name is charlie,\n",
    "my age is 10\n",
    "\"\"\"\n",
    "# print(my_info)\n",
    "a_bool = True\n",
    "type(a_bool)"
   ]
  },
  {
   "cell_type": "code",
   "execution_count": 9,
   "metadata": {},
   "outputs": [],
   "source": [
    "students = []\n",
    "# student_data = []\n",
    "stu_nam"
   ]
  },
  {
   "cell_type": "code",
   "execution_count": 17,
   "metadata": {},
   "outputs": [
    {
     "name": "stdout",
     "output_type": "stream",
     "text": [
      "enter your name:\n",
      "dennis\n",
      "enter your age:\n",
      "11\n",
      "are you boy or girl:\n",
      "boy\n",
      "what is your hobby:\n",
      "gaming\n"
     ]
    }
   ],
   "source": [
    "student_data = []\n",
    "\n",
    "print('enter your name:')\n",
    "student_name = input()\n",
    "\n",
    "print('enter your age:')\n",
    "student_age = input()\n",
    "\n",
    "print('are you boy or girl:')\n",
    "student_sex = input()\n",
    "\n",
    "print('what is your hobby:')\n",
    "student_hobby = input()\n",
    "\n",
    "student_data.append(student_name)\n",
    "student_data.append(student_age)\n",
    "student_data.append(student_sex)\n",
    "student_data.append(student_hobby)\n",
    "\n",
    "students.append(student_data)"
   ]
  },
  {
   "cell_type": "code",
   "execution_count": 11,
   "metadata": {},
   "outputs": [
    {
     "name": "stdout",
     "output_type": "stream",
     "text": [
      "[['ivy', '10', 'gril', 'drawing']]\n"
     ]
    }
   ],
   "source": [
    "print(students)"
   ]
  },
  {
   "cell_type": "code",
   "execution_count": 33,
   "metadata": {},
   "outputs": [
    {
     "name": "stdout",
     "output_type": "stream",
     "text": [
      "5050\n"
     ]
    }
   ],
   "source": [
    "my_sum = 0\n",
    "for one_num in range(1,101):\n",
    "    my_sum = my_sum + one_num\n",
    "print(my_sum)"
   ]
  },
  {
   "cell_type": "code",
   "execution_count": 31,
   "metadata": {},
   "outputs": [
    {
     "data": {
      "text/plain": [
       "[1, 2, 3, 4, 5, 6, 7, 8, 9]"
      ]
     },
     "execution_count": 31,
     "metadata": {},
     "output_type": "execute_result"
    }
   ],
   "source": [
    "list(range(1,10))"
   ]
  },
  {
   "cell_type": "code",
   "execution_count": 6,
   "metadata": {},
   "outputs": [
    {
     "data": {
      "text/plain": [
       "5050"
      ]
     },
     "execution_count": 6,
     "metadata": {},
     "output_type": "execute_result"
    }
   ],
   "source": [
    "sum(range(1,101))"
   ]
  },
  {
   "cell_type": "code",
   "execution_count": 8,
   "metadata": {},
   "outputs": [
    {
     "name": "stdout",
     "output_type": "stream",
     "text": [
      "not a primer\n",
      "7\n"
     ]
    }
   ],
   "source": [
    "my_num = 1001\n",
    "is_prime = True\n",
    "for num in range(2, my_num):\n",
    "    if 1001 % num == 0:\n",
    "        print('not a primer')\n",
    "        print(num)\n",
    "        is_prime = False\n",
    "        break\n",
    "if is_prime:\n",
    "    print('yes, a prime')"
   ]
  }
 ],
 "metadata": {
  "kernelspec": {
   "display_name": "Python 3",
   "language": "python",
   "name": "python3"
  },
  "language_info": {
   "codemirror_mode": {
    "name": "ipython",
    "version": 3
   },
   "file_extension": ".py",
   "mimetype": "text/x-python",
   "name": "python",
   "nbconvert_exporter": "python",
   "pygments_lexer": "ipython3",
   "version": "3.6.5"
  }
 },
 "nbformat": 4,
 "nbformat_minor": 2
}
