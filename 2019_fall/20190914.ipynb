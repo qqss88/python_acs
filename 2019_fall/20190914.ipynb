{
 "cells": [
  {
   "cell_type": "markdown",
   "metadata": {},
   "source": [
    "# TO-DO list:\n",
    "\n",
    "1. book my contact info:\n",
    "\n",
    "   name: sun, qiang(charlie) 孙老师\n",
    "   cell: 240-406-4949\n",
    "   email: qqss88@gmail.com\n",
    "   wechat_id: sunsine16da8\n",
    "   \n",
    "2. regsiter a trello account and send me a email - I'll add you to our class website\n",
    "\n",
    "3. prepare your computer for python coding:\n",
    "\n",
    "https://www.anaconda.com/distribution/\n",
    "\n",
    "4. watch this video:\n",
    "\n",
    "https://www.khanacademy.org/computing/computer-science/how-computers-work2/v/khan-academy-and-codeorg-introducing-how-computers-work\n",
    "\n",
    "5. start this free python tutorial:\n",
    "\n",
    "https://www.codecademy.com/learn/learn-python\n",
    "\n",
    "6. ask your questions\n",
    "\n",
    "\n",
    "# Topics\n",
    "\n",
    "- data and data types\n",
    "- variable: give your data a name\n",
    "- type(), id()\n"
   ]
  },
  {
   "cell_type": "code",
   "execution_count": 1,
   "metadata": {},
   "outputs": [
    {
     "name": "stdout",
     "output_type": "stream",
     "text": [
      "hello, charlie\n"
     ]
    }
   ],
   "source": [
    "my_name = 'charlie'\n",
    "print('hello, {}'.format(my_name))"
   ]
  },
  {
   "cell_type": "code",
   "execution_count": null,
   "metadata": {
    "collapsed": true
   },
   "outputs": [],
   "source": []
  },
  {
   "cell_type": "code",
   "execution_count": null,
   "metadata": {
    "collapsed": true
   },
   "outputs": [],
   "source": []
  },
  {
   "cell_type": "code",
   "execution_count": null,
   "metadata": {
    "collapsed": true
   },
   "outputs": [],
   "source": []
  }
 ],
 "metadata": {
  "kernelspec": {
   "display_name": "Python 3",
   "language": "python",
   "name": "python3"
  },
  "language_info": {
   "codemirror_mode": {
    "name": "ipython",
    "version": 3
   },
   "file_extension": ".py",
   "mimetype": "text/x-python",
   "name": "python",
   "nbconvert_exporter": "python",
   "pygments_lexer": "ipython3",
   "version": "3.6.1"
  }
 },
 "nbformat": 4,
 "nbformat_minor": 2
}
