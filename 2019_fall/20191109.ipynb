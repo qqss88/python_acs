{
 "cells": [
  {
   "cell_type": "markdown",
   "metadata": {},
   "source": [
    "# TODO List\n",
    "\n",
    "    1. another important data structure: dictionary\n",
    "\n",
    "    2. dictionary code demo\n",
    "    \n",
    "    3. mini project: word count\n",
    "\n",
    "\n",
    "\n",
    "# Lab Session:\n",
    "\n",
    "    1. python dictionary practise\n",
    "    \n",
    "        - https://www.tutorialspoint.com/python/python_dictionary.htm\n",
    "\n",
    "    2. youtube video: what is hashing? what is hash table?\n",
    "        - https://www.youtube.com/watch?v=KyUTuwz_b7Q\n",
    "\n",
    "    3. microsoft python tutorial:\n",
    "        https://www.youtube.com/playlist?list=PLlrxD0HtieHhS8VzuMCfQD4uJ9yne1mE6\n",
    "\n",
    "# HW: \n",
    "\n",
    "    1. review number_count/word_count code\n",
    "    2. checkout the microsoft youtube tutorial\n",
    "\n",
    "\n",
    "\n",
    "Questions: trello? anaconda? other?"
   ]
  },
  {
   "cell_type": "code",
   "execution_count": 5,
   "metadata": {},
   "outputs": [
    {
     "name": "stdout",
     "output_type": "stream",
     "text": [
      "{'amy': 10, 'bob': 11}\n"
     ]
    }
   ],
   "source": [
    "students_age = {}\n",
    "students_age['amy'] = 10\n",
    "students_age['bob'] = 11\n",
    "print(students_age)"
   ]
  },
  {
   "cell_type": "code",
   "execution_count": 6,
   "metadata": {},
   "outputs": [
    {
     "data": {
      "text/plain": [
       "11"
      ]
     },
     "execution_count": 6,
     "metadata": {},
     "output_type": "execute_result"
    }
   ],
   "source": [
    "bob_age = students_age.get('bob')\n",
    "bob_age"
   ]
  },
  {
   "cell_type": "code",
   "execution_count": 7,
   "metadata": {},
   "outputs": [
    {
     "data": {
      "text/plain": [
       "11"
      ]
     },
     "execution_count": 7,
     "metadata": {},
     "output_type": "execute_result"
    }
   ],
   "source": [
    "bob_age = students_age['bob']\n",
    "bob_age"
   ]
  },
  {
   "cell_type": "code",
   "execution_count": 8,
   "metadata": {},
   "outputs": [
    {
     "name": "stdout",
     "output_type": "stream",
     "text": [
      "['Barr', 'was', 'at', 'his', 'most', 'animated', 'in', 'the', 'speech', 'before', 'a', 'friendly', 'crowd.', 'But', 'the', 'substance', 'of', 'his', 'remarks', 'touched', 'on', 'some', 'of', 'the', 'most', 'serious', 'issues', 'facing', 'the', 'country', 'now', '--', 'including', \"Congress'\", 'ongoing', 'investigations', 'into', 'President', 'Donald', 'Trump,', 'and', \"Barr's\", \"department's\", 'attempts', 'to', 'protect', 'the', 'White', 'House', 'from', 'subpoenas', 'during', 'impeachment', 'and', 'other', 'inquiries.', 'Before', 'a', 'crowd', 'of', 'high-powered', 'attorneys', 'at', 'the', 'annual', 'confab', 'of', 'the', 'Federalist', 'Society,', 'a', 'conservative', 'legal', 'group,', 'the', 'attorney', 'general', 'said', 'the', 'Democrats', '\"have', 'decided', 'to', 'drown', 'the', 'executive', 'branch', 'with', 'oversight', 'demands', 'for', 'testimony', 'and', 'documents.\"']\n"
     ]
    }
   ],
   "source": [
    "with open('test.txt', 'r') as _fin:\n",
    "    file_content = _fin.read()\n",
    "#     print(file_content)\n",
    "    words = file_content.split()\n",
    "    print(words)\n",
    "    "
   ]
  },
  {
   "cell_type": "code",
   "execution_count": 9,
   "metadata": {},
   "outputs": [
    {
     "name": "stdout",
     "output_type": "stream",
     "text": [
      "{'Barr': 1, 'was': 1, 'at': 2, 'his': 2, 'most': 2, 'animated': 1, 'in': 1, 'the': 10, 'speech': 1, 'before': 1, 'a': 3, 'friendly': 1, 'crowd.': 1, 'But': 1, 'substance': 1, 'of': 4, 'remarks': 1, 'touched': 1, 'on': 1, 'some': 1, 'serious': 1, 'issues': 1, 'facing': 1, 'country': 1, 'now': 1, '--': 1, 'including': 1, \"Congress'\": 1, 'ongoing': 1, 'investigations': 1, 'into': 1, 'President': 1, 'Donald': 1, 'Trump,': 1, 'and': 3, \"Barr's\": 1, \"department's\": 1, 'attempts': 1, 'to': 2, 'protect': 1, 'White': 1, 'House': 1, 'from': 1, 'subpoenas': 1, 'during': 1, 'impeachment': 1, 'other': 1, 'inquiries.': 1, 'Before': 1, 'crowd': 1, 'high-powered': 1, 'attorneys': 1, 'annual': 1, 'confab': 1, 'Federalist': 1, 'Society,': 1, 'conservative': 1, 'legal': 1, 'group,': 1, 'attorney': 1, 'general': 1, 'said': 1, 'Democrats': 1, '\"have': 1, 'decided': 1, 'drown': 1, 'executive': 1, 'branch': 1, 'with': 1, 'oversight': 1, 'demands': 1, 'for': 1, 'testimony': 1, 'documents.\"': 1}\n"
     ]
    }
   ],
   "source": [
    "count = {}\n",
    "for word in words:\n",
    "    if word not in count:\n",
    "        count[word] = 1\n",
    "    else:\n",
    "        count[word] += 1\n",
    "print(count)\n",
    "\n"
   ]
  },
  {
   "cell_type": "code",
   "execution_count": 10,
   "metadata": {},
   "outputs": [
    {
     "data": {
      "text/plain": [
       "[('the', 10),\n",
       " ('of', 4),\n",
       " ('and', 3),\n",
       " ('a', 3),\n",
       " ('to', 2),\n",
       " ('most', 2),\n",
       " ('his', 2),\n",
       " ('at', 2),\n",
       " ('with', 1),\n",
       " ('was', 1),\n",
       " ('touched', 1),\n",
       " ('testimony', 1),\n",
       " ('substance', 1),\n",
       " ('subpoenas', 1),\n",
       " ('speech', 1),\n",
       " ('some', 1),\n",
       " ('serious', 1),\n",
       " ('said', 1),\n",
       " ('remarks', 1),\n",
       " ('protect', 1),\n",
       " ('oversight', 1),\n",
       " ('other', 1),\n",
       " ('ongoing', 1),\n",
       " ('on', 1),\n",
       " ('now', 1),\n",
       " ('legal', 1),\n",
       " ('issues', 1),\n",
       " ('investigations', 1),\n",
       " ('into', 1),\n",
       " ('inquiries.', 1),\n",
       " ('including', 1),\n",
       " ('in', 1),\n",
       " ('impeachment', 1),\n",
       " ('high-powered', 1),\n",
       " ('group,', 1),\n",
       " ('general', 1),\n",
       " ('from', 1),\n",
       " ('friendly', 1),\n",
       " ('for', 1),\n",
       " ('facing', 1),\n",
       " ('executive', 1),\n",
       " ('during', 1),\n",
       " ('drown', 1),\n",
       " ('documents.\"', 1),\n",
       " (\"department's\", 1),\n",
       " ('demands', 1),\n",
       " ('decided', 1),\n",
       " ('crowd.', 1),\n",
       " ('crowd', 1),\n",
       " ('country', 1),\n",
       " ('conservative', 1),\n",
       " ('confab', 1),\n",
       " ('branch', 1),\n",
       " ('before', 1),\n",
       " ('attorneys', 1),\n",
       " ('attorney', 1),\n",
       " ('attempts', 1),\n",
       " ('annual', 1),\n",
       " ('animated', 1),\n",
       " ('White', 1),\n",
       " ('Trump,', 1),\n",
       " ('Society,', 1),\n",
       " ('President', 1),\n",
       " ('House', 1),\n",
       " ('Federalist', 1),\n",
       " ('Donald', 1),\n",
       " ('Democrats', 1),\n",
       " (\"Congress'\", 1),\n",
       " ('But', 1),\n",
       " ('Before', 1),\n",
       " (\"Barr's\", 1),\n",
       " ('Barr', 1),\n",
       " ('--', 1),\n",
       " ('\"have', 1)]"
      ]
     },
     "execution_count": 10,
     "metadata": {},
     "output_type": "execute_result"
    }
   ],
   "source": [
    "sorted(count.items(), key = lambda item: (item[1], item[0]), reverse=True)"
   ]
  },
  {
   "cell_type": "code",
   "execution_count": 11,
   "metadata": {},
   "outputs": [
    {
     "data": {
      "text/plain": [
       "dict_items([('Barr', 1), ('was', 1), ('at', 2), ('his', 2), ('most', 2), ('animated', 1), ('in', 1), ('the', 10), ('speech', 1), ('before', 1), ('a', 3), ('friendly', 1), ('crowd.', 1), ('But', 1), ('substance', 1), ('of', 4), ('remarks', 1), ('touched', 1), ('on', 1), ('some', 1), ('serious', 1), ('issues', 1), ('facing', 1), ('country', 1), ('now', 1), ('--', 1), ('including', 1), (\"Congress'\", 1), ('ongoing', 1), ('investigations', 1), ('into', 1), ('President', 1), ('Donald', 1), ('Trump,', 1), ('and', 3), (\"Barr's\", 1), (\"department's\", 1), ('attempts', 1), ('to', 2), ('protect', 1), ('White', 1), ('House', 1), ('from', 1), ('subpoenas', 1), ('during', 1), ('impeachment', 1), ('other', 1), ('inquiries.', 1), ('Before', 1), ('crowd', 1), ('high-powered', 1), ('attorneys', 1), ('annual', 1), ('confab', 1), ('Federalist', 1), ('Society,', 1), ('conservative', 1), ('legal', 1), ('group,', 1), ('attorney', 1), ('general', 1), ('said', 1), ('Democrats', 1), ('\"have', 1), ('decided', 1), ('drown', 1), ('executive', 1), ('branch', 1), ('with', 1), ('oversight', 1), ('demands', 1), ('for', 1), ('testimony', 1), ('documents.\"', 1)])"
      ]
     },
     "execution_count": 11,
     "metadata": {},
     "output_type": "execute_result"
    }
   ],
   "source": [
    "count.items()"
   ]
  },
  {
   "cell_type": "code",
   "execution_count": 12,
   "metadata": {},
   "outputs": [
    {
     "data": {
      "text/plain": [
       "[10,\n",
       " 4,\n",
       " 3,\n",
       " 3,\n",
       " 2,\n",
       " 2,\n",
       " 2,\n",
       " 2,\n",
       " 1,\n",
       " 1,\n",
       " 1,\n",
       " 1,\n",
       " 1,\n",
       " 1,\n",
       " 1,\n",
       " 1,\n",
       " 1,\n",
       " 1,\n",
       " 1,\n",
       " 1,\n",
       " 1,\n",
       " 1,\n",
       " 1,\n",
       " 1,\n",
       " 1,\n",
       " 1,\n",
       " 1,\n",
       " 1,\n",
       " 1,\n",
       " 1,\n",
       " 1,\n",
       " 1,\n",
       " 1,\n",
       " 1,\n",
       " 1,\n",
       " 1,\n",
       " 1,\n",
       " 1,\n",
       " 1,\n",
       " 1,\n",
       " 1,\n",
       " 1,\n",
       " 1,\n",
       " 1,\n",
       " 1,\n",
       " 1,\n",
       " 1,\n",
       " 1,\n",
       " 1,\n",
       " 1,\n",
       " 1,\n",
       " 1,\n",
       " 1,\n",
       " 1,\n",
       " 1,\n",
       " 1,\n",
       " 1,\n",
       " 1,\n",
       " 1,\n",
       " 1,\n",
       " 1,\n",
       " 1,\n",
       " 1,\n",
       " 1,\n",
       " 1,\n",
       " 1,\n",
       " 1,\n",
       " 1,\n",
       " 1,\n",
       " 1,\n",
       " 1,\n",
       " 1,\n",
       " 1,\n",
       " 1]"
      ]
     },
     "execution_count": 12,
     "metadata": {},
     "output_type": "execute_result"
    }
   ],
   "source": [
    "# sorted(count.keys())\n",
    "sorted(count.values(), reverse=True)"
   ]
  },
  {
   "cell_type": "code",
   "execution_count": 13,
   "metadata": {},
   "outputs": [
    {
     "data": {
      "text/plain": [
       "['I', 'am', 'a', 'student']"
      ]
     },
     "execution_count": 13,
     "metadata": {},
     "output_type": "execute_result"
    }
   ],
   "source": [
    "_txt = 'I am a student'\n",
    "_txt.split()"
   ]
  },
  {
   "cell_type": "code",
   "execution_count": null,
   "metadata": {},
   "outputs": [],
   "source": []
  },
  {
   "cell_type": "code",
   "execution_count": null,
   "metadata": {},
   "outputs": [],
   "source": []
  },
  {
   "cell_type": "code",
   "execution_count": null,
   "metadata": {},
   "outputs": [],
   "source": []
  },
  {
   "cell_type": "code",
   "execution_count": null,
   "metadata": {},
   "outputs": [],
   "source": []
  },
  {
   "cell_type": "code",
   "execution_count": 14,
   "metadata": {},
   "outputs": [
    {
     "name": "stdout",
     "output_type": "stream",
     "text": [
      "student amy is 10\n",
      "student bob is 11\n"
     ]
    }
   ],
   "source": [
    "for student in students_age:\n",
    "    print('student ' + student + ' is ' + '{}'.format(students_age.get(student)))"
   ]
  },
  {
   "cell_type": "code",
   "execution_count": 15,
   "metadata": {},
   "outputs": [
    {
     "name": "stdout",
     "output_type": "stream",
     "text": [
      "[9, 8, 8, 2, 4, 1, 1, 4, 2, 1, 6, 8, 4, 8, 2, 6, 9, 6, 3, 5, 10, 10, 1, 1, 2, 5, 5, 9, 2, 3, 2, 8, 5, 3, 10, 7, 3, 8, 3, 7, 2, 5, 7, 7, 4, 10, 7, 9, 8, 3, 9, 8, 3, 10, 4, 7, 10, 3, 8, 5, 8, 3, 4, 7, 7, 4, 7, 9, 9, 2, 4, 10, 9, 2, 1, 7, 6, 4, 5, 3, 2, 10, 4, 3, 7, 3, 1, 10, 2, 10, 8, 7, 6, 10, 3, 1, 5, 8, 8]\n"
     ]
    }
   ],
   "source": [
    "# count number frequency\n",
    "import random\n",
    "numbers = []\n",
    "for num in range(1,100):\n",
    "    numbers.append(random.randint(1,10))\n",
    "print(numbers)\n",
    "    \n",
    "# now let us count the frequency of each number"
   ]
  },
  {
   "cell_type": "code",
   "execution_count": 16,
   "metadata": {},
   "outputs": [
    {
     "name": "stdout",
     "output_type": "stream",
     "text": [
      "fist time see this number\n",
      "{9: 1}\n",
      "fist time see this number\n",
      "{9: 1, 8: 1}\n",
      "see this number again\n",
      "{9: 1, 8: 3}\n",
      "fist time see this number\n",
      "{9: 1, 8: 3, 2: 1}\n",
      "fist time see this number\n",
      "{9: 1, 8: 3, 2: 1, 4: 1}\n",
      "fist time see this number\n",
      "{9: 1, 8: 3, 2: 1, 4: 1, 1: 1}\n",
      "see this number again\n",
      "{9: 1, 8: 3, 2: 1, 4: 1, 1: 3}\n",
      "see this number again\n",
      "{9: 1, 8: 3, 2: 1, 4: 3, 1: 3}\n",
      "see this number again\n",
      "{9: 1, 8: 3, 2: 3, 4: 3, 1: 3}\n",
      "see this number again\n",
      "{9: 1, 8: 3, 2: 3, 4: 3, 1: 5}\n"
     ]
    }
   ],
   "source": [
    "count = {}\n",
    "for num in numbers[:10]:\n",
    "    if num in count:\n",
    "        print('see this number again')\n",
    "        count[num] += 1\n",
    "        count[num] = count[num] + 1\n",
    "        \n",
    "    else:\n",
    "        print('fist time see this number')\n",
    "        count[num] = 1\n",
    "    print(count)\n",
    "    "
   ]
  },
  {
   "cell_type": "markdown",
   "metadata": {},
   "source": [
    "# TODO-list:\n",
    "\n",
    "1. while looping\n",
    "\n",
    "2. review encode/decode\n",
    "\n",
    "3. quick grand review\n"
   ]
  },
  {
   "cell_type": "code",
   "execution_count": 17,
   "metadata": {},
   "outputs": [
    {
     "data": {
      "text/plain": [
       "'abcdefghijklmnopqrstuvwxyz'"
      ]
     },
     "execution_count": 17,
     "metadata": {},
     "output_type": "execute_result"
    }
   ],
   "source": [
    "message = 'how about see a movie'\n",
    "import string\n",
    "string.ascii_lowercase"
   ]
  },
  {
   "cell_type": "code",
   "execution_count": 18,
   "metadata": {},
   "outputs": [
    {
     "name": "stdout",
     "output_type": "stream",
     "text": [
      "abcdefghijklmnopqrstuvwxyz\n"
     ]
    }
   ],
   "source": [
    "import string\n",
    "_a2z = string.ascii_lowercase\n",
    "print(_a2z)"
   ]
  },
  {
   "cell_type": "code",
   "execution_count": 19,
   "metadata": {},
   "outputs": [
    {
     "name": "stdout",
     "output_type": "stream",
     "text": [
      "['a', 'b', 'c', 'd', 'e', 'f', 'g', 'h', 'i', 'j', 'k', 'l', 'm', 'n', 'o', 'p', 'q', 'r', 's', 't', 'u', 'v', 'w', 'x', 'y', 'z']\n"
     ]
    }
   ],
   "source": [
    "a2z_org = []\n",
    "for _l in _a2z:\n",
    "    a2z_org.append(_l)\n",
    "print(a2z_org)"
   ]
  },
  {
   "cell_type": "code",
   "execution_count": 20,
   "metadata": {},
   "outputs": [
    {
     "name": "stdout",
     "output_type": "stream",
     "text": [
      "['a', 'b', 'c', 'd', 'e', 'f', 'g', 'h', 'i', 'j', 'k', 'l', 'm', 'n', 'o', 'p', 'q', 'r', 's', 't', 'u', 'v', 'w', 'x', 'y', 'z']\n"
     ]
    }
   ],
   "source": [
    "a2z = []\n",
    "for _l in _a2z:\n",
    "    a2z.append(_l)\n",
    "print(a2z)"
   ]
  },
  {
   "cell_type": "code",
   "execution_count": 21,
   "metadata": {},
   "outputs": [
    {
     "name": "stdout",
     "output_type": "stream",
     "text": [
      "['v', 'l', 'j', 'p', 'a', 'y', 'f', 'z', 'k', 'x', 'g', 'b', 't', 'q', 's', 'e', 'r', 'c', 'd', 'm', 'h', 'i', 'w', 'n', 'u', 'o']\n"
     ]
    }
   ],
   "source": [
    "import random \n",
    "random.shuffle(a2z)\n",
    "print(a2z)"
   ]
  },
  {
   "cell_type": "code",
   "execution_count": 22,
   "metadata": {},
   "outputs": [],
   "source": [
    "encode = dict(zip(a2z_org, a2z))"
   ]
  },
  {
   "cell_type": "code",
   "execution_count": 23,
   "metadata": {},
   "outputs": [
    {
     "name": "stdout",
     "output_type": "stream",
     "text": [
      "{'a': 'v', 'b': 'l', 'c': 'j', 'd': 'p', 'e': 'a', 'f': 'y', 'g': 'f', 'h': 'z', 'i': 'k', 'j': 'x', 'k': 'g', 'l': 'b', 'm': 't', 'n': 'q', 'o': 's', 'p': 'e', 'q': 'r', 'r': 'c', 's': 'd', 't': 'm', 'u': 'h', 'v': 'i', 'w': 'w', 'x': 'n', 'y': 'u', 'z': 'o'}\n"
     ]
    }
   ],
   "source": [
    "print(encode)"
   ]
  },
  {
   "cell_type": "code",
   "execution_count": 24,
   "metadata": {},
   "outputs": [
    {
     "data": {
      "text/plain": [
       "{'v': 'a',\n",
       " 'l': 'b',\n",
       " 'j': 'c',\n",
       " 'p': 'd',\n",
       " 'a': 'e',\n",
       " 'y': 'f',\n",
       " 'f': 'g',\n",
       " 'z': 'h',\n",
       " 'k': 'i',\n",
       " 'x': 'j',\n",
       " 'g': 'k',\n",
       " 'b': 'l',\n",
       " 't': 'm',\n",
       " 'q': 'n',\n",
       " 's': 'o',\n",
       " 'e': 'p',\n",
       " 'r': 'q',\n",
       " 'c': 'r',\n",
       " 'd': 's',\n",
       " 'm': 't',\n",
       " 'h': 'u',\n",
       " 'i': 'v',\n",
       " 'w': 'w',\n",
       " 'n': 'x',\n",
       " 'u': 'y',\n",
       " 'o': 'z'}"
      ]
     },
     "execution_count": 24,
     "metadata": {},
     "output_type": "execute_result"
    }
   ],
   "source": [
    "decode = dict(zip(a2z, a2z_org))\n",
    "decode"
   ]
  },
  {
   "cell_type": "code",
   "execution_count": 25,
   "metadata": {},
   "outputs": [],
   "source": [
    "def encode_message(message):\n",
    "    encoded_m = ''\n",
    "    for _l in message:\n",
    "        encoded_m = encoded_m + encode.get(_l)\n",
    "    print(encoded_m)"
   ]
  },
  {
   "cell_type": "code",
   "execution_count": 26,
   "metadata": {},
   "outputs": [
    {
     "name": "stdout",
     "output_type": "stream",
     "text": [
      "vljpa\n"
     ]
    }
   ],
   "source": [
    "encode_message('abcde')"
   ]
  },
  {
   "cell_type": "code",
   "execution_count": 27,
   "metadata": {},
   "outputs": [],
   "source": [
    "def decode_message(message):\n",
    "    decoded_m = ''\n",
    "    for _l in message:\n",
    "        decoded_m = decoded_m + decode.get(_l)\n",
    "    print(decoded_m)"
   ]
  },
  {
   "cell_type": "code",
   "execution_count": 28,
   "metadata": {},
   "outputs": [
    {
     "name": "stdout",
     "output_type": "stream",
     "text": [
      "ovhbj\n"
     ]
    }
   ],
   "source": [
    "decode_message('sizlx')"
   ]
  },
  {
   "cell_type": "code",
   "execution_count": 29,
   "metadata": {},
   "outputs": [
    {
     "ename": "TypeError",
     "evalue": "must be str, not NoneType",
     "output_type": "error",
     "traceback": [
      "\u001b[0;31m---------------------------------------------------------------------------\u001b[0m",
      "\u001b[0;31mTypeError\u001b[0m                                 Traceback (most recent call last)",
      "\u001b[0;32m<ipython-input-29-672e3d823fcf>\u001b[0m in \u001b[0;36m<module>\u001b[0;34m()\u001b[0m\n\u001b[1;32m      1\u001b[0m \u001b[0mmy_message\u001b[0m \u001b[0;34m=\u001b[0m \u001b[0;34m'how about see a movie'\u001b[0m\u001b[0;34m\u001b[0m\u001b[0m\n\u001b[0;32m----> 2\u001b[0;31m \u001b[0mencode_message\u001b[0m\u001b[0;34m(\u001b[0m\u001b[0mmy_message\u001b[0m\u001b[0;34m)\u001b[0m\u001b[0;34m\u001b[0m\u001b[0m\n\u001b[0m",
      "\u001b[0;32m<ipython-input-25-132f5f4abed8>\u001b[0m in \u001b[0;36mencode_message\u001b[0;34m(message)\u001b[0m\n\u001b[1;32m      2\u001b[0m     \u001b[0mencoded_m\u001b[0m \u001b[0;34m=\u001b[0m \u001b[0;34m''\u001b[0m\u001b[0;34m\u001b[0m\u001b[0m\n\u001b[1;32m      3\u001b[0m     \u001b[0;32mfor\u001b[0m \u001b[0m_l\u001b[0m \u001b[0;32min\u001b[0m \u001b[0mmessage\u001b[0m\u001b[0;34m:\u001b[0m\u001b[0;34m\u001b[0m\u001b[0m\n\u001b[0;32m----> 4\u001b[0;31m         \u001b[0mencoded_m\u001b[0m \u001b[0;34m=\u001b[0m \u001b[0mencoded_m\u001b[0m \u001b[0;34m+\u001b[0m \u001b[0mencode\u001b[0m\u001b[0;34m.\u001b[0m\u001b[0mget\u001b[0m\u001b[0;34m(\u001b[0m\u001b[0m_l\u001b[0m\u001b[0;34m)\u001b[0m\u001b[0;34m\u001b[0m\u001b[0m\n\u001b[0m\u001b[1;32m      5\u001b[0m     \u001b[0mprint\u001b[0m\u001b[0;34m(\u001b[0m\u001b[0mencoded_m\u001b[0m\u001b[0;34m)\u001b[0m\u001b[0;34m\u001b[0m\u001b[0m\n",
      "\u001b[0;31mTypeError\u001b[0m: must be str, not NoneType"
     ]
    }
   ],
   "source": [
    "my_message = 'how about see a movie'\n",
    "encode_message(my_message)"
   ]
  },
  {
   "cell_type": "code",
   "execution_count": null,
   "metadata": {},
   "outputs": [],
   "source": [
    "m = 'abc'\n",
    "_l = [l for l in m]\n",
    "_l"
   ]
  },
  {
   "cell_type": "code",
   "execution_count": 31,
   "metadata": {},
   "outputs": [],
   "source": [
    "import string"
   ]
  },
  {
   "cell_type": "code",
   "execution_count": 32,
   "metadata": {},
   "outputs": [],
   "source": [
    "letters = string.ascii_lowercase + ',' + '.' + ' '"
   ]
  },
  {
   "cell_type": "code",
   "execution_count": 33,
   "metadata": {},
   "outputs": [
    {
     "data": {
      "text/plain": [
       "'abcdefghijklmnopqrstuvwxyz,. '"
      ]
     },
     "execution_count": 33,
     "metadata": {},
     "output_type": "execute_result"
    }
   ],
   "source": [
    "letters"
   ]
  },
  {
   "cell_type": "code",
   "execution_count": 34,
   "metadata": {},
   "outputs": [
    {
     "data": {
      "text/plain": [
       "['a',\n",
       " 'b',\n",
       " 'c',\n",
       " 'd',\n",
       " 'e',\n",
       " 'f',\n",
       " 'g',\n",
       " 'h',\n",
       " 'i',\n",
       " 'j',\n",
       " 'k',\n",
       " 'l',\n",
       " 'm',\n",
       " 'n',\n",
       " 'o',\n",
       " 'p',\n",
       " 'q',\n",
       " 'r',\n",
       " 's',\n",
       " 't',\n",
       " 'u',\n",
       " 'v',\n",
       " 'w',\n",
       " 'x',\n",
       " 'y',\n",
       " 'z',\n",
       " ',',\n",
       " '.',\n",
       " ' ']"
      ]
     },
     "execution_count": 34,
     "metadata": {},
     "output_type": "execute_result"
    }
   ],
   "source": [
    "from random import shuffle\n",
    "char_l = [l for l in letters]\n",
    "char_l\n",
    "# rand_l = char_l.shuffle()"
   ]
  },
  {
   "cell_type": "code",
   "execution_count": 35,
   "metadata": {},
   "outputs": [],
   "source": [
    "rand_l = char_l.copy()\n",
    "shuffle(rand_l)"
   ]
  },
  {
   "cell_type": "code",
   "execution_count": 36,
   "metadata": {},
   "outputs": [
    {
     "data": {
      "text/plain": [
       "['.',\n",
       " 'v',\n",
       " 't',\n",
       " 'r',\n",
       " 'f',\n",
       " 'j',\n",
       " ' ',\n",
       " 'u',\n",
       " 'k',\n",
       " 'q',\n",
       " 'g',\n",
       " ',',\n",
       " 'l',\n",
       " 's',\n",
       " 'h',\n",
       " 'a',\n",
       " 'd',\n",
       " 'p',\n",
       " 'n',\n",
       " 'm',\n",
       " 'z',\n",
       " 'c',\n",
       " 'y',\n",
       " 'e',\n",
       " 'b',\n",
       " 'w',\n",
       " 'i',\n",
       " 'o',\n",
       " 'x']"
      ]
     },
     "execution_count": 36,
     "metadata": {},
     "output_type": "execute_result"
    }
   ],
   "source": [
    "rand_l"
   ]
  },
  {
   "cell_type": "code",
   "execution_count": 37,
   "metadata": {},
   "outputs": [],
   "source": [
    "encode_dic = dict(zip(char_l, rand_l))\n",
    "decode_dic = dict(zip(rand_l, char_l))"
   ]
  },
  {
   "cell_type": "code",
   "execution_count": 38,
   "metadata": {},
   "outputs": [
    {
     "data": {
      "text/plain": [
       "{'a': '.',\n",
       " 'b': 'v',\n",
       " 'c': 't',\n",
       " 'd': 'r',\n",
       " 'e': 'f',\n",
       " 'f': 'j',\n",
       " 'g': ' ',\n",
       " 'h': 'u',\n",
       " 'i': 'k',\n",
       " 'j': 'q',\n",
       " 'k': 'g',\n",
       " 'l': ',',\n",
       " 'm': 'l',\n",
       " 'n': 's',\n",
       " 'o': 'h',\n",
       " 'p': 'a',\n",
       " 'q': 'd',\n",
       " 'r': 'p',\n",
       " 's': 'n',\n",
       " 't': 'm',\n",
       " 'u': 'z',\n",
       " 'v': 'c',\n",
       " 'w': 'y',\n",
       " 'x': 'e',\n",
       " 'y': 'b',\n",
       " 'z': 'w',\n",
       " ',': 'i',\n",
       " '.': 'o',\n",
       " ' ': 'x'}"
      ]
     },
     "execution_count": 38,
     "metadata": {},
     "output_type": "execute_result"
    }
   ],
   "source": [
    "encode_dic"
   ]
  },
  {
   "cell_type": "code",
   "execution_count": 39,
   "metadata": {},
   "outputs": [
    {
     "data": {
      "text/plain": [
       "{'.': 'a',\n",
       " 'v': 'b',\n",
       " 't': 'c',\n",
       " 'r': 'd',\n",
       " 'f': 'e',\n",
       " 'j': 'f',\n",
       " ' ': 'g',\n",
       " 'u': 'h',\n",
       " 'k': 'i',\n",
       " 'q': 'j',\n",
       " 'g': 'k',\n",
       " ',': 'l',\n",
       " 'l': 'm',\n",
       " 's': 'n',\n",
       " 'h': 'o',\n",
       " 'a': 'p',\n",
       " 'd': 'q',\n",
       " 'p': 'r',\n",
       " 'n': 's',\n",
       " 'm': 't',\n",
       " 'z': 'u',\n",
       " 'c': 'v',\n",
       " 'y': 'w',\n",
       " 'e': 'x',\n",
       " 'b': 'y',\n",
       " 'w': 'z',\n",
       " 'i': ',',\n",
       " 'o': '.',\n",
       " 'x': ' '}"
      ]
     },
     "execution_count": 39,
     "metadata": {},
     "output_type": "execute_result"
    }
   ],
   "source": [
    "decode_dic\n"
   ]
  },
  {
   "cell_type": "code",
   "execution_count": 40,
   "metadata": {},
   "outputs": [],
   "source": [
    "encode_dic = {'a':'v'}\n",
    "decode_dic = {'v':'a'}\n",
    "def encode_message(message):\n",
    "    encoded_m = ''\n",
    "    for _l in message:\n",
    "        encoded_m = encoded_m + encode_dic.get(_l)\n",
    "    print(encoded_m)"
   ]
  },
  {
   "cell_type": "code",
   "execution_count": 41,
   "metadata": {},
   "outputs": [
    {
     "name": "stdout",
     "output_type": "stream",
     "text": [
      ",fmxznxy.mtux.xlhckfo\n"
     ]
    }
   ],
   "source": [
    "encode_message('let us watch a movie.')"
   ]
  },
  {
   "cell_type": "code",
   "execution_count": 28,
   "metadata": {},
   "outputs": [],
   "source": [
    "def decode_message(message):\n",
    "    decoded_m = ''\n",
    "    for _l in message:\n",
    "        decoded_m = decoded_m + decode_dic.get(_l)\n",
    "    print(decoded_m)"
   ]
  },
  {
   "cell_type": "code",
   "execution_count": 29,
   "metadata": {},
   "outputs": [
    {
     "name": "stdout",
     "output_type": "stream",
     "text": [
      "let us watch a movie.\n"
     ]
    }
   ],
   "source": [
    "decode_message('.xcbmnb tcvabtboulixr')"
   ]
  },
  {
   "cell_type": "code",
   "execution_count": 33,
   "metadata": {},
   "outputs": [
    {
     "name": "stdout",
     "output_type": "stream",
     "text": [
      "1\n",
      "2\n",
      "3\n",
      "4\n",
      "5\n",
      "6\n",
      "7\n",
      "8\n",
      "9\n",
      "10\n"
     ]
    }
   ],
   "source": [
    "num = 0\n",
    "while num < 10:\n",
    "    num += 1\n",
    "    print(num)"
   ]
  },
  {
   "cell_type": "code",
   "execution_count": 1,
   "metadata": {},
   "outputs": [
    {
     "name": "stdout",
     "output_type": "stream",
     "text": [
      "haha\n",
      "haha\n",
      "haha\n",
      "haha\n",
      "haha\n",
      "haha\n",
      "haha\n",
      "haha\n",
      "haha\n",
      "haha\n"
     ]
    }
   ],
   "source": [
    "count = 0\n",
    "while True:\n",
    "    print('haha')\n",
    "    count += 1\n",
    "    if count == 10:\n",
    "        break"
   ]
  },
  {
   "cell_type": "code",
   "execution_count": 3,
   "metadata": {},
   "outputs": [
    {
     "name": "stdout",
     "output_type": "stream",
     "text": [
      "haha\n",
      "haha\n",
      "haha\n",
      "haha\n",
      "haha\n",
      "haha\n",
      "haha\n",
      "haha\n",
      "haha\n",
      "haha\n"
     ]
    }
   ],
   "source": [
    "for i in range(1,11):\n",
    "    print('haha')"
   ]
  },
  {
   "cell_type": "code",
   "execution_count": 5,
   "metadata": {},
   "outputs": [
    {
     "name": "stdout",
     "output_type": "stream",
     "text": [
      "1\n",
      "3\n",
      "5\n",
      "7\n",
      "9\n",
      "i am out of the loop\n",
      "10\n"
     ]
    }
   ],
   "source": [
    "num = 0\n",
    "while num < 10:\n",
    "    num += 1\n",
    "    if num % 2 == 0:\n",
    "        continue\n",
    "    print(num)\n",
    "print('i am out of the loop')\n",
    "print(num)"
   ]
  },
  {
   "cell_type": "code",
   "execution_count": 32,
   "metadata": {},
   "outputs": [
    {
     "name": "stdout",
     "output_type": "stream",
     "text": [
      "1\n",
      "2\n",
      "3\n",
      "4\n"
     ]
    }
   ],
   "source": [
    "num = 0\n",
    "while True:\n",
    "    num += 1\n",
    "    if num == 5:\n",
    "        break\n",
    "    print(num)\n"
   ]
  },
  {
   "cell_type": "code",
   "execution_count": null,
   "metadata": {},
   "outputs": [],
   "source": []
  },
  {
   "cell_type": "code",
   "execution_count": null,
   "metadata": {},
   "outputs": [],
   "source": []
  }
 ],
 "metadata": {
  "kernelspec": {
   "display_name": "Python 3",
   "language": "python",
   "name": "python3"
  },
  "language_info": {
   "codemirror_mode": {
    "name": "ipython",
    "version": 3
   },
   "file_extension": ".py",
   "mimetype": "text/x-python",
   "name": "python",
   "nbconvert_exporter": "python",
   "pygments_lexer": "ipython3",
   "version": "3.6.5"
  }
 },
 "nbformat": 4,
 "nbformat_minor": 2
}
