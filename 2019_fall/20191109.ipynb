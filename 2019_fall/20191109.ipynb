{
 "cells": [
  {
   "cell_type": "markdown",
   "metadata": {},
   "source": [
    "# TODO List\n",
    "\n",
    "    1. another important data structure: dictionary\n",
    "\n",
    "    2. dictionary code demo\n",
    "    \n",
    "    3. mini project: word count\n",
    "\n",
    "\n",
    "\n",
    "# Lab Session:\n",
    "\n",
    "    1. python dictionary practise\n",
    "    \n",
    "        - https://www.tutorialspoint.com/python/python_dictionary.htm\n",
    "\n",
    "    2. youtube video: what is hashing? what is hash table?\n",
    "        - https://www.youtube.com/watch?v=KyUTuwz_b7Q\n",
    "\n",
    "    3. microsoft python tutorial:\n",
    "        https://www.youtube.com/playlist?list=PLlrxD0HtieHhS8VzuMCfQD4uJ9yne1mE6\n",
    "\n",
    "# HW: \n",
    "\n",
    "    1. review number_count/word_count code\n",
    "    2. checkout the microsoft youtube tutorial\n",
    "\n",
    "\n",
    "\n",
    "Questions: trello? anaconda? other?"
   ]
  },
  {
   "cell_type": "code",
   "execution_count": 1,
   "metadata": {},
   "outputs": [
    {
     "name": "stdout",
     "output_type": "stream",
     "text": [
      "{'amy': 10, 'bob': 11}\n"
     ]
    }
   ],
   "source": [
    "students_age = {}\n",
    "students_age['amy'] = 10\n",
    "students_age['bob'] = 11\n",
    "print(students_age)"
   ]
  },
  {
   "cell_type": "code",
   "execution_count": 3,
   "metadata": {},
   "outputs": [
    {
     "data": {
      "text/plain": [
       "11"
      ]
     },
     "execution_count": 3,
     "metadata": {},
     "output_type": "execute_result"
    }
   ],
   "source": [
    "bob_age = students_age.get('bob')\n",
    "bob_age"
   ]
  },
  {
   "cell_type": "code",
   "execution_count": 4,
   "metadata": {},
   "outputs": [
    {
     "data": {
      "text/plain": [
       "11"
      ]
     },
     "execution_count": 4,
     "metadata": {},
     "output_type": "execute_result"
    }
   ],
   "source": [
    "bob_age = students_age['bob']\n",
    "bob_age"
   ]
  },
  {
   "cell_type": "code",
   "execution_count": 11,
   "metadata": {},
   "outputs": [
    {
     "name": "stdout",
     "output_type": "stream",
     "text": [
      "['Barr', 'was', 'at', 'his', 'most', 'animated', 'in', 'the', 'speech', 'before', 'a', 'friendly', 'crowd.', 'But', 'the', 'substance', 'of', 'his', 'remarks', 'touched', 'on', 'some', 'of', 'the', 'most', 'serious', 'issues', 'facing', 'the', 'country', 'now', '--', 'including', \"Congress'\", 'ongoing', 'investigations', 'into', 'President', 'Donald', 'Trump,', 'and', \"Barr's\", \"department's\", 'attempts', 'to', 'protect', 'the', 'White', 'House', 'from', 'subpoenas', 'during', 'impeachment', 'and', 'other', 'inquiries.', 'Before', 'a', 'crowd', 'of', 'high-powered', 'attorneys', 'at', 'the', 'annual', 'confab', 'of', 'the', 'Federalist', 'Society,', 'a', 'conservative', 'legal', 'group,', 'the', 'attorney', 'general', 'said', 'the', 'Democrats', '\"have', 'decided', 'to', 'drown', 'the', 'executive', 'branch', 'with', 'oversight', 'demands', 'for', 'testimony', 'and', 'documents.\"']\n"
     ]
    }
   ],
   "source": [
    "with open('test.txt', 'r') as _fin:\n",
    "    file_content = _fin.read()\n",
    "#     print(file_content)\n",
    "    words = file_content.split()\n",
    "    print(words)\n",
    "    "
   ]
  },
  {
   "cell_type": "code",
   "execution_count": 12,
   "metadata": {},
   "outputs": [
    {
     "name": "stdout",
     "output_type": "stream",
     "text": [
      "{'Barr': 1, 'was': 1, 'at': 2, 'his': 2, 'most': 2, 'animated': 1, 'in': 1, 'the': 10, 'speech': 1, 'before': 1, 'a': 3, 'friendly': 1, 'crowd.': 1, 'But': 1, 'substance': 1, 'of': 4, 'remarks': 1, 'touched': 1, 'on': 1, 'some': 1, 'serious': 1, 'issues': 1, 'facing': 1, 'country': 1, 'now': 1, '--': 1, 'including': 1, \"Congress'\": 1, 'ongoing': 1, 'investigations': 1, 'into': 1, 'President': 1, 'Donald': 1, 'Trump,': 1, 'and': 3, \"Barr's\": 1, \"department's\": 1, 'attempts': 1, 'to': 2, 'protect': 1, 'White': 1, 'House': 1, 'from': 1, 'subpoenas': 1, 'during': 1, 'impeachment': 1, 'other': 1, 'inquiries.': 1, 'Before': 1, 'crowd': 1, 'high-powered': 1, 'attorneys': 1, 'annual': 1, 'confab': 1, 'Federalist': 1, 'Society,': 1, 'conservative': 1, 'legal': 1, 'group,': 1, 'attorney': 1, 'general': 1, 'said': 1, 'Democrats': 1, '\"have': 1, 'decided': 1, 'drown': 1, 'executive': 1, 'branch': 1, 'with': 1, 'oversight': 1, 'demands': 1, 'for': 1, 'testimony': 1, 'documents.\"': 1}\n"
     ]
    }
   ],
   "source": [
    "count = {}\n",
    "for word in words:\n",
    "    if word not in count:\n",
    "        count[word] = 1\n",
    "    else:\n",
    "        count[word] += 1\n",
    "print(count)\n",
    "\n"
   ]
  },
  {
   "cell_type": "code",
   "execution_count": 23,
   "metadata": {},
   "outputs": [
    {
     "data": {
      "text/plain": [
       "[('the', 10),\n",
       " ('of', 4),\n",
       " ('and', 3),\n",
       " ('a', 3),\n",
       " ('to', 2),\n",
       " ('most', 2),\n",
       " ('his', 2),\n",
       " ('at', 2),\n",
       " ('with', 1),\n",
       " ('was', 1),\n",
       " ('touched', 1),\n",
       " ('testimony', 1),\n",
       " ('substance', 1),\n",
       " ('subpoenas', 1),\n",
       " ('speech', 1),\n",
       " ('some', 1),\n",
       " ('serious', 1),\n",
       " ('said', 1),\n",
       " ('remarks', 1),\n",
       " ('protect', 1),\n",
       " ('oversight', 1),\n",
       " ('other', 1),\n",
       " ('ongoing', 1),\n",
       " ('on', 1),\n",
       " ('now', 1),\n",
       " ('legal', 1),\n",
       " ('issues', 1),\n",
       " ('investigations', 1),\n",
       " ('into', 1),\n",
       " ('inquiries.', 1),\n",
       " ('including', 1),\n",
       " ('in', 1),\n",
       " ('impeachment', 1),\n",
       " ('high-powered', 1),\n",
       " ('group,', 1),\n",
       " ('general', 1),\n",
       " ('from', 1),\n",
       " ('friendly', 1),\n",
       " ('for', 1),\n",
       " ('facing', 1),\n",
       " ('executive', 1),\n",
       " ('during', 1),\n",
       " ('drown', 1),\n",
       " ('documents.\"', 1),\n",
       " (\"department's\", 1),\n",
       " ('demands', 1),\n",
       " ('decided', 1),\n",
       " ('crowd.', 1),\n",
       " ('crowd', 1),\n",
       " ('country', 1),\n",
       " ('conservative', 1),\n",
       " ('confab', 1),\n",
       " ('branch', 1),\n",
       " ('before', 1),\n",
       " ('attorneys', 1),\n",
       " ('attorney', 1),\n",
       " ('attempts', 1),\n",
       " ('annual', 1),\n",
       " ('animated', 1),\n",
       " ('White', 1),\n",
       " ('Trump,', 1),\n",
       " ('Society,', 1),\n",
       " ('President', 1),\n",
       " ('House', 1),\n",
       " ('Federalist', 1),\n",
       " ('Donald', 1),\n",
       " ('Democrats', 1),\n",
       " (\"Congress'\", 1),\n",
       " ('But', 1),\n",
       " ('Before', 1),\n",
       " (\"Barr's\", 1),\n",
       " ('Barr', 1),\n",
       " ('--', 1),\n",
       " ('\"have', 1)]"
      ]
     },
     "execution_count": 23,
     "metadata": {},
     "output_type": "execute_result"
    }
   ],
   "source": [
    "sorted(count.items(), key = lambda item: (item[1], item[0]), reverse=True)"
   ]
  },
  {
   "cell_type": "code",
   "execution_count": 15,
   "metadata": {},
   "outputs": [
    {
     "data": {
      "text/plain": [
       "dict_items([('Barr', 1), ('was', 1), ('at', 2), ('his', 2), ('most', 2), ('animated', 1), ('in', 1), ('the', 10), ('speech', 1), ('before', 1), ('a', 3), ('friendly', 1), ('crowd.', 1), ('But', 1), ('substance', 1), ('of', 4), ('remarks', 1), ('touched', 1), ('on', 1), ('some', 1), ('serious', 1), ('issues', 1), ('facing', 1), ('country', 1), ('now', 1), ('--', 1), ('including', 1), (\"Congress'\", 1), ('ongoing', 1), ('investigations', 1), ('into', 1), ('President', 1), ('Donald', 1), ('Trump,', 1), ('and', 3), (\"Barr's\", 1), (\"department's\", 1), ('attempts', 1), ('to', 2), ('protect', 1), ('White', 1), ('House', 1), ('from', 1), ('subpoenas', 1), ('during', 1), ('impeachment', 1), ('other', 1), ('inquiries.', 1), ('Before', 1), ('crowd', 1), ('high-powered', 1), ('attorneys', 1), ('annual', 1), ('confab', 1), ('Federalist', 1), ('Society,', 1), ('conservative', 1), ('legal', 1), ('group,', 1), ('attorney', 1), ('general', 1), ('said', 1), ('Democrats', 1), ('\"have', 1), ('decided', 1), ('drown', 1), ('executive', 1), ('branch', 1), ('with', 1), ('oversight', 1), ('demands', 1), ('for', 1), ('testimony', 1), ('documents.\"', 1)])"
      ]
     },
     "execution_count": 15,
     "metadata": {},
     "output_type": "execute_result"
    }
   ],
   "source": [
    "count.items()"
   ]
  },
  {
   "cell_type": "code",
   "execution_count": 21,
   "metadata": {},
   "outputs": [
    {
     "data": {
      "text/plain": [
       "[10,\n",
       " 4,\n",
       " 3,\n",
       " 3,\n",
       " 2,\n",
       " 2,\n",
       " 2,\n",
       " 2,\n",
       " 1,\n",
       " 1,\n",
       " 1,\n",
       " 1,\n",
       " 1,\n",
       " 1,\n",
       " 1,\n",
       " 1,\n",
       " 1,\n",
       " 1,\n",
       " 1,\n",
       " 1,\n",
       " 1,\n",
       " 1,\n",
       " 1,\n",
       " 1,\n",
       " 1,\n",
       " 1,\n",
       " 1,\n",
       " 1,\n",
       " 1,\n",
       " 1,\n",
       " 1,\n",
       " 1,\n",
       " 1,\n",
       " 1,\n",
       " 1,\n",
       " 1,\n",
       " 1,\n",
       " 1,\n",
       " 1,\n",
       " 1,\n",
       " 1,\n",
       " 1,\n",
       " 1,\n",
       " 1,\n",
       " 1,\n",
       " 1,\n",
       " 1,\n",
       " 1,\n",
       " 1,\n",
       " 1,\n",
       " 1,\n",
       " 1,\n",
       " 1,\n",
       " 1,\n",
       " 1,\n",
       " 1,\n",
       " 1,\n",
       " 1,\n",
       " 1,\n",
       " 1,\n",
       " 1,\n",
       " 1,\n",
       " 1,\n",
       " 1,\n",
       " 1,\n",
       " 1,\n",
       " 1,\n",
       " 1,\n",
       " 1,\n",
       " 1,\n",
       " 1,\n",
       " 1,\n",
       " 1,\n",
       " 1]"
      ]
     },
     "execution_count": 21,
     "metadata": {},
     "output_type": "execute_result"
    }
   ],
   "source": [
    "# sorted(count.keys())\n",
    "sorted(count.values(), reverse=True)"
   ]
  },
  {
   "cell_type": "code",
   "execution_count": 7,
   "metadata": {},
   "outputs": [
    {
     "data": {
      "text/plain": [
       "['I', 'am', 'a', 'student']"
      ]
     },
     "execution_count": 7,
     "metadata": {},
     "output_type": "execute_result"
    }
   ],
   "source": [
    "_txt = 'I am a student'\n",
    "_txt.split()"
   ]
  },
  {
   "cell_type": "code",
   "execution_count": null,
   "metadata": {},
   "outputs": [],
   "source": []
  },
  {
   "cell_type": "code",
   "execution_count": null,
   "metadata": {},
   "outputs": [],
   "source": []
  },
  {
   "cell_type": "code",
   "execution_count": null,
   "metadata": {},
   "outputs": [],
   "source": []
  },
  {
   "cell_type": "code",
   "execution_count": null,
   "metadata": {},
   "outputs": [],
   "source": []
  },
  {
   "cell_type": "code",
   "execution_count": 14,
   "metadata": {},
   "outputs": [
    {
     "name": "stdout",
     "output_type": "stream",
     "text": [
      "student amy is 10\n",
      "student bob is 11\n"
     ]
    }
   ],
   "source": [
    "for student in students_age:\n",
    "    print('student ' + student + ' is ' + '{}'.format(students_age.get(student)))"
   ]
  },
  {
   "cell_type": "code",
   "execution_count": 16,
   "metadata": {},
   "outputs": [
    {
     "name": "stdout",
     "output_type": "stream",
     "text": [
      "[10, 2, 3, 2, 8, 6, 3, 1, 3, 5, 5, 6, 9, 3, 5, 6, 4, 3, 9, 4, 8, 3, 4, 1, 2, 4, 7, 3, 4, 7, 6, 9, 2, 4, 4, 10, 10, 5, 2, 2, 7, 1, 2, 1, 7, 10, 1, 8, 5, 3, 7, 10, 9, 3, 5, 7, 9, 5, 5, 2, 1, 10, 7, 1, 10, 4, 1, 9, 3, 4, 5, 5, 9, 3, 2, 5, 2, 6, 7, 5, 8, 2, 7, 9, 8, 5, 10, 8, 9, 5, 7, 1, 2, 10, 8, 2, 4, 10, 8]\n"
     ]
    }
   ],
   "source": [
    "# count number frequency\n",
    "import random\n",
    "numbers = []\n",
    "for num in range(1,100):\n",
    "    numbers.append(random.randint(1,10))\n",
    "print(numbers)\n",
    "    \n",
    "# now let us count the frequency of each number"
   ]
  },
  {
   "cell_type": "code",
   "execution_count": 20,
   "metadata": {},
   "outputs": [
    {
     "name": "stdout",
     "output_type": "stream",
     "text": [
      "fist time see this number\n",
      "{10: 1}\n",
      "fist time see this number\n",
      "{10: 1, 2: 1}\n",
      "fist time see this number\n",
      "{10: 1, 2: 1, 3: 1}\n",
      "see this number again\n",
      "{10: 1, 2: 2, 3: 1}\n",
      "fist time see this number\n",
      "{10: 1, 2: 2, 3: 1, 8: 1}\n",
      "fist time see this number\n",
      "{10: 1, 2: 2, 3: 1, 8: 1, 6: 1}\n",
      "see this number again\n",
      "{10: 1, 2: 2, 3: 2, 8: 1, 6: 1}\n",
      "fist time see this number\n",
      "{10: 1, 2: 2, 3: 2, 8: 1, 6: 1, 1: 1}\n",
      "see this number again\n",
      "{10: 1, 2: 2, 3: 3, 8: 1, 6: 1, 1: 1}\n",
      "fist time see this number\n",
      "{10: 1, 2: 2, 3: 3, 8: 1, 6: 1, 1: 1, 5: 1}\n"
     ]
    }
   ],
   "source": [
    "count = {}\n",
    "for num in numbers[:10]:\n",
    "    if num in count:\n",
    "        print('see this number again')\n",
    "        count[num] += 1\n",
    "        count[num] = count[num] + 1\n",
    "        \n",
    "    else:\n",
    "        print('fist time see this number')\n",
    "        count[num] = 1\n",
    "    print(count)\n",
    "    "
   ]
  },
  {
   "cell_type": "markdown",
   "metadata": {},
   "source": [
    "# TODO-list:\n",
    "\n",
    "1. while looping\n",
    "\n",
    "2. review encode/decode\n",
    "\n",
    "3. quick grand review\n"
   ]
  },
  {
   "cell_type": "code",
   "execution_count": null,
   "metadata": {},
   "outputs": [],
   "source": [
    "message = 'how about see a movie'\n",
    "import string\n",
    "string.ascii_lowercase"
   ]
  },
  {
   "cell_type": "code",
   "execution_count": 3,
   "metadata": {},
   "outputs": [
    {
     "name": "stdout",
     "output_type": "stream",
     "text": [
      "abcdefghijklmnopqrstuvwxyz\n"
     ]
    }
   ],
   "source": [
    "import string\n",
    "_a2z = string.ascii_lowercase\n",
    "print(_a2z)"
   ]
  },
  {
   "cell_type": "code",
   "execution_count": 10,
   "metadata": {},
   "outputs": [
    {
     "name": "stdout",
     "output_type": "stream",
     "text": [
      "['a', 'b', 'c', 'd', 'e', 'f', 'g', 'h', 'i', 'j', 'k', 'l', 'm', 'n', 'o', 'p', 'q', 'r', 's', 't', 'u', 'v', 'w', 'x', 'y', 'z']\n"
     ]
    }
   ],
   "source": [
    "a2z_org = []\n",
    "for _l in _a2z:\n",
    "    a2z_org.append(_l)\n",
    "print(a2z_org)"
   ]
  },
  {
   "cell_type": "code",
   "execution_count": 13,
   "metadata": {},
   "outputs": [
    {
     "name": "stdout",
     "output_type": "stream",
     "text": [
      "['a', 'b', 'c', 'd', 'e', 'f', 'g', 'h', 'i', 'j', 'k', 'l', 'm', 'n', 'o', 'p', 'q', 'r', 's', 't', 'u', 'v', 'w', 'x', 'y', 'z']\n"
     ]
    }
   ],
   "source": [
    "a2z = []\n",
    "for _l in _a2z:\n",
    "    a2z.append(_l)\n",
    "print(a2z)"
   ]
  },
  {
   "cell_type": "code",
   "execution_count": 14,
   "metadata": {},
   "outputs": [
    {
     "name": "stdout",
     "output_type": "stream",
     "text": [
      "['s', 'i', 'z', 'l', 'x', 'a', 'm', 'r', 'h', 'f', 'g', 'j', 'v', 'c', 'd', 'n', 'y', 'w', 'e', 'k', 'b', 't', 'o', 'p', 'u', 'q']\n"
     ]
    }
   ],
   "source": [
    "import random \n",
    "random.shuffle(a2z)\n",
    "print(a2z)"
   ]
  },
  {
   "cell_type": "code",
   "execution_count": 27,
   "metadata": {},
   "outputs": [],
   "source": [
    "encode = dict(zip(a2z_org, a2z))"
   ]
  },
  {
   "cell_type": "code",
   "execution_count": 28,
   "metadata": {},
   "outputs": [
    {
     "name": "stdout",
     "output_type": "stream",
     "text": [
      "{'a': 's', 'b': 'i', 'c': 'z', 'd': 'l', 'e': 'x', 'f': 'a', 'g': 'm', 'h': 'r', 'i': 'h', 'j': 'f', 'k': 'g', 'l': 'j', 'm': 'v', 'n': 'c', 'o': 'd', 'p': 'n', 'q': 'y', 'r': 'w', 's': 'e', 't': 'k', 'u': 'b', 'v': 't', 'w': 'o', 'x': 'p', 'y': 'u', 'z': 'q'}\n"
     ]
    }
   ],
   "source": [
    "print(encode)"
   ]
  },
  {
   "cell_type": "code",
   "execution_count": 18,
   "metadata": {},
   "outputs": [
    {
     "data": {
      "text/plain": [
       "{'s': 'a',\n",
       " 'i': 'b',\n",
       " 'z': 'c',\n",
       " 'l': 'd',\n",
       " 'x': 'e',\n",
       " 'a': 'f',\n",
       " 'm': 'g',\n",
       " 'r': 'h',\n",
       " 'h': 'i',\n",
       " 'f': 'j',\n",
       " 'g': 'k',\n",
       " 'j': 'l',\n",
       " 'v': 'm',\n",
       " 'c': 'n',\n",
       " 'd': 'o',\n",
       " 'n': 'p',\n",
       " 'y': 'q',\n",
       " 'w': 'r',\n",
       " 'e': 's',\n",
       " 'k': 't',\n",
       " 'b': 'u',\n",
       " 't': 'v',\n",
       " 'o': 'w',\n",
       " 'p': 'x',\n",
       " 'u': 'y',\n",
       " 'q': 'z'}"
      ]
     },
     "execution_count": 18,
     "metadata": {},
     "output_type": "execute_result"
    }
   ],
   "source": [
    "decode = dict(zip(a2z, a2z_org))\n",
    "decode"
   ]
  },
  {
   "cell_type": "code",
   "execution_count": 29,
   "metadata": {},
   "outputs": [],
   "source": [
    "def encode_message(message):\n",
    "    encoded_m = ''\n",
    "    for _l in message:\n",
    "        encoded_m = encoded_m + encode.get(_l)\n",
    "    print(encoded_m)"
   ]
  },
  {
   "cell_type": "code",
   "execution_count": 30,
   "metadata": {},
   "outputs": [
    {
     "name": "stdout",
     "output_type": "stream",
     "text": [
      "sizlx\n"
     ]
    }
   ],
   "source": [
    "encode_message('abcde')"
   ]
  },
  {
   "cell_type": "code",
   "execution_count": 31,
   "metadata": {},
   "outputs": [],
   "source": [
    "def decode_message(message):\n",
    "    decoded_m = ''\n",
    "    for _l in message:\n",
    "        decoded_m = decoded_m + decode.get(_l)\n",
    "    print(decoded_m)"
   ]
  },
  {
   "cell_type": "code",
   "execution_count": 32,
   "metadata": {},
   "outputs": [
    {
     "name": "stdout",
     "output_type": "stream",
     "text": [
      "abcde\n"
     ]
    }
   ],
   "source": [
    "decode_message('sizlx')"
   ]
  },
  {
   "cell_type": "code",
   "execution_count": 33,
   "metadata": {},
   "outputs": [
    {
     "ename": "TypeError",
     "evalue": "must be str, not NoneType",
     "output_type": "error",
     "traceback": [
      "\u001b[0;31m---------------------------------------------------------------------------\u001b[0m",
      "\u001b[0;31mTypeError\u001b[0m                                 Traceback (most recent call last)",
      "\u001b[0;32m<ipython-input-33-672e3d823fcf>\u001b[0m in \u001b[0;36m<module>\u001b[0;34m()\u001b[0m\n\u001b[1;32m      1\u001b[0m \u001b[0mmy_message\u001b[0m \u001b[0;34m=\u001b[0m \u001b[0;34m'how about see a movie'\u001b[0m\u001b[0;34m\u001b[0m\u001b[0m\n\u001b[0;32m----> 2\u001b[0;31m \u001b[0mencode_message\u001b[0m\u001b[0;34m(\u001b[0m\u001b[0mmy_message\u001b[0m\u001b[0;34m)\u001b[0m\u001b[0;34m\u001b[0m\u001b[0m\n\u001b[0m",
      "\u001b[0;32m<ipython-input-29-132f5f4abed8>\u001b[0m in \u001b[0;36mencode_message\u001b[0;34m(message)\u001b[0m\n\u001b[1;32m      2\u001b[0m     \u001b[0mencoded_m\u001b[0m \u001b[0;34m=\u001b[0m \u001b[0;34m''\u001b[0m\u001b[0;34m\u001b[0m\u001b[0m\n\u001b[1;32m      3\u001b[0m     \u001b[0;32mfor\u001b[0m \u001b[0m_l\u001b[0m \u001b[0;32min\u001b[0m \u001b[0mmessage\u001b[0m\u001b[0;34m:\u001b[0m\u001b[0;34m\u001b[0m\u001b[0m\n\u001b[0;32m----> 4\u001b[0;31m         \u001b[0mencoded_m\u001b[0m \u001b[0;34m=\u001b[0m \u001b[0mencoded_m\u001b[0m \u001b[0;34m+\u001b[0m \u001b[0mencode\u001b[0m\u001b[0;34m.\u001b[0m\u001b[0mget\u001b[0m\u001b[0;34m(\u001b[0m\u001b[0m_l\u001b[0m\u001b[0;34m)\u001b[0m\u001b[0;34m\u001b[0m\u001b[0m\n\u001b[0m\u001b[1;32m      5\u001b[0m     \u001b[0mprint\u001b[0m\u001b[0;34m(\u001b[0m\u001b[0mencoded_m\u001b[0m\u001b[0;34m)\u001b[0m\u001b[0;34m\u001b[0m\u001b[0m\n",
      "\u001b[0;31mTypeError\u001b[0m: must be str, not NoneType"
     ]
    }
   ],
   "source": [
    "my_message = 'how about see a movie'\n",
    "encode_message(my_message)"
   ]
  },
  {
   "cell_type": "code",
   "execution_count": 4,
   "metadata": {},
   "outputs": [
    {
     "data": {
      "text/plain": [
       "['a', 'b', 'c']"
      ]
     },
     "execution_count": 4,
     "metadata": {},
     "output_type": "execute_result"
    }
   ],
   "source": [
    "m = 'abc'\n",
    "_l = [l for l in m]\n",
    "_l"
   ]
  },
  {
   "cell_type": "code",
   "execution_count": 17,
   "metadata": {},
   "outputs": [],
   "source": [
    "import string"
   ]
  },
  {
   "cell_type": "code",
   "execution_count": 18,
   "metadata": {},
   "outputs": [],
   "source": [
    "letters = string.ascii_lowercase + ',' + '.' + ' '"
   ]
  },
  {
   "cell_type": "code",
   "execution_count": 19,
   "metadata": {},
   "outputs": [
    {
     "data": {
      "text/plain": [
       "'abcdefghijklmnopqrstuvwxyz,. '"
      ]
     },
     "execution_count": 19,
     "metadata": {},
     "output_type": "execute_result"
    }
   ],
   "source": [
    "letters"
   ]
  },
  {
   "cell_type": "code",
   "execution_count": 20,
   "metadata": {},
   "outputs": [
    {
     "data": {
      "text/plain": [
       "['a',\n",
       " 'b',\n",
       " 'c',\n",
       " 'd',\n",
       " 'e',\n",
       " 'f',\n",
       " 'g',\n",
       " 'h',\n",
       " 'i',\n",
       " 'j',\n",
       " 'k',\n",
       " 'l',\n",
       " 'm',\n",
       " 'n',\n",
       " 'o',\n",
       " 'p',\n",
       " 'q',\n",
       " 'r',\n",
       " 's',\n",
       " 't',\n",
       " 'u',\n",
       " 'v',\n",
       " 'w',\n",
       " 'x',\n",
       " 'y',\n",
       " 'z',\n",
       " ',',\n",
       " '.',\n",
       " ' ']"
      ]
     },
     "execution_count": 20,
     "metadata": {},
     "output_type": "execute_result"
    }
   ],
   "source": [
    "from random import shuffle\n",
    "char_l = [l for l in letters]\n",
    "char_l\n",
    "# rand_l = char_l.shuffle()"
   ]
  },
  {
   "cell_type": "code",
   "execution_count": 21,
   "metadata": {},
   "outputs": [],
   "source": [
    "rand_l = char_l.copy()\n",
    "shuffle(rand_l)"
   ]
  },
  {
   "cell_type": "code",
   "execution_count": 22,
   "metadata": {},
   "outputs": [
    {
     "data": {
      "text/plain": [
       "['t',\n",
       " 'q',\n",
       " 'v',\n",
       " 'j',\n",
       " 'x',\n",
       " 'z',\n",
       " 'd',\n",
       " 'a',\n",
       " 'i',\n",
       " 's',\n",
       " ',',\n",
       " '.',\n",
       " 'o',\n",
       " 'w',\n",
       " 'u',\n",
       " 'g',\n",
       " 'f',\n",
       " 'y',\n",
       " 'n',\n",
       " 'c',\n",
       " 'm',\n",
       " 'l',\n",
       " ' ',\n",
       " 'p',\n",
       " 'h',\n",
       " 'k',\n",
       " 'e',\n",
       " 'r',\n",
       " 'b']"
      ]
     },
     "execution_count": 22,
     "metadata": {},
     "output_type": "execute_result"
    }
   ],
   "source": [
    "rand_l"
   ]
  },
  {
   "cell_type": "code",
   "execution_count": 23,
   "metadata": {},
   "outputs": [],
   "source": [
    "encode_dic = dict(zip(char_l, rand_l))\n",
    "decode_dic = dict(zip(rand_l, char_l))"
   ]
  },
  {
   "cell_type": "code",
   "execution_count": 24,
   "metadata": {},
   "outputs": [
    {
     "data": {
      "text/plain": [
       "{'a': 't',\n",
       " 'b': 'q',\n",
       " 'c': 'v',\n",
       " 'd': 'j',\n",
       " 'e': 'x',\n",
       " 'f': 'z',\n",
       " 'g': 'd',\n",
       " 'h': 'a',\n",
       " 'i': 'i',\n",
       " 'j': 's',\n",
       " 'k': ',',\n",
       " 'l': '.',\n",
       " 'm': 'o',\n",
       " 'n': 'w',\n",
       " 'o': 'u',\n",
       " 'p': 'g',\n",
       " 'q': 'f',\n",
       " 'r': 'y',\n",
       " 's': 'n',\n",
       " 't': 'c',\n",
       " 'u': 'm',\n",
       " 'v': 'l',\n",
       " 'w': ' ',\n",
       " 'x': 'p',\n",
       " 'y': 'h',\n",
       " 'z': 'k',\n",
       " ',': 'e',\n",
       " '.': 'r',\n",
       " ' ': 'b'}"
      ]
     },
     "execution_count": 24,
     "metadata": {},
     "output_type": "execute_result"
    }
   ],
   "source": [
    "encode_dic"
   ]
  },
  {
   "cell_type": "code",
   "execution_count": 25,
   "metadata": {},
   "outputs": [
    {
     "data": {
      "text/plain": [
       "{'t': 'a',\n",
       " 'q': 'b',\n",
       " 'v': 'c',\n",
       " 'j': 'd',\n",
       " 'x': 'e',\n",
       " 'z': 'f',\n",
       " 'd': 'g',\n",
       " 'a': 'h',\n",
       " 'i': 'i',\n",
       " 's': 'j',\n",
       " ',': 'k',\n",
       " '.': 'l',\n",
       " 'o': 'm',\n",
       " 'w': 'n',\n",
       " 'u': 'o',\n",
       " 'g': 'p',\n",
       " 'f': 'q',\n",
       " 'y': 'r',\n",
       " 'n': 's',\n",
       " 'c': 't',\n",
       " 'm': 'u',\n",
       " 'l': 'v',\n",
       " ' ': 'w',\n",
       " 'p': 'x',\n",
       " 'h': 'y',\n",
       " 'k': 'z',\n",
       " 'e': ',',\n",
       " 'r': '.',\n",
       " 'b': ' '}"
      ]
     },
     "execution_count": 25,
     "metadata": {},
     "output_type": "execute_result"
    }
   ],
   "source": [
    "decode_dic\n"
   ]
  },
  {
   "cell_type": "code",
   "execution_count": 26,
   "metadata": {},
   "outputs": [],
   "source": [
    "def encode_message(message):\n",
    "    encoded_m = ''\n",
    "    for _l in message:\n",
    "        encoded_m = encoded_m + encode_dic.get(_l)\n",
    "    print(encoded_m)"
   ]
  },
  {
   "cell_type": "code",
   "execution_count": 27,
   "metadata": {},
   "outputs": [
    {
     "name": "stdout",
     "output_type": "stream",
     "text": [
      ".xcbmnb tcvabtboulixr\n"
     ]
    }
   ],
   "source": [
    "encode_message('let us watch a movie.')"
   ]
  },
  {
   "cell_type": "code",
   "execution_count": 28,
   "metadata": {},
   "outputs": [],
   "source": [
    "def decode_message(message):\n",
    "    decoded_m = ''\n",
    "    for _l in message:\n",
    "        decoded_m = decoded_m + decode_dic.get(_l)\n",
    "    print(decoded_m)"
   ]
  },
  {
   "cell_type": "code",
   "execution_count": 29,
   "metadata": {},
   "outputs": [
    {
     "name": "stdout",
     "output_type": "stream",
     "text": [
      "let us watch a movie.\n"
     ]
    }
   ],
   "source": [
    "decode_message('.xcbmnb tcvabtboulixr')"
   ]
  },
  {
   "cell_type": "code",
   "execution_count": 33,
   "metadata": {},
   "outputs": [
    {
     "name": "stdout",
     "output_type": "stream",
     "text": [
      "1\n",
      "2\n",
      "3\n",
      "4\n",
      "5\n",
      "6\n",
      "7\n",
      "8\n",
      "9\n",
      "10\n"
     ]
    }
   ],
   "source": [
    "num = 0\n",
    "while num < 10:\n",
    "    num += 1\n",
    "    print(num)"
   ]
  },
  {
   "cell_type": "code",
   "execution_count": 30,
   "metadata": {},
   "outputs": [
    {
     "name": "stdout",
     "output_type": "stream",
     "text": [
      "1\n",
      "2\n",
      "3\n",
      "4\n",
      "6\n",
      "7\n",
      "8\n",
      "9\n",
      "10\n"
     ]
    }
   ],
   "source": [
    "num = 0\n",
    "while num < 10:\n",
    "    num += 1\n",
    "    if num == 5:\n",
    "        continue\n",
    "    print(num)"
   ]
  },
  {
   "cell_type": "code",
   "execution_count": 32,
   "metadata": {},
   "outputs": [
    {
     "name": "stdout",
     "output_type": "stream",
     "text": [
      "1\n",
      "2\n",
      "3\n",
      "4\n"
     ]
    }
   ],
   "source": [
    "num = 0\n",
    "while True:\n",
    "    num += 1\n",
    "    if num == 5:\n",
    "        break\n",
    "    print(num)"
   ]
  },
  {
   "cell_type": "code",
   "execution_count": null,
   "metadata": {},
   "outputs": [],
   "source": []
  },
  {
   "cell_type": "code",
   "execution_count": null,
   "metadata": {},
   "outputs": [],
   "source": []
  }
 ],
 "metadata": {
  "kernelspec": {
   "display_name": "Python 3",
   "language": "python",
   "name": "python3"
  },
  "language_info": {
   "codemirror_mode": {
    "name": "ipython",
    "version": 3
   },
   "file_extension": ".py",
   "mimetype": "text/x-python",
   "name": "python",
   "nbconvert_exporter": "python",
   "pygments_lexer": "ipython3",
   "version": "3.6.5"
  }
 },
 "nbformat": 4,
 "nbformat_minor": 2
}
