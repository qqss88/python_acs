{
 "cells": [
  {
   "cell_type": "markdown",
   "metadata": {},
   "source": [
    "# TODO List\n",
    "\n",
    "    1. another important data structure: dictionary\n",
    "\n",
    "    2. dictionary code demo\n",
    "    \n",
    "    3. mini project: word count\n",
    "\n",
    "\n",
    "\n",
    "# Lab Session:\n",
    "\n",
    "    1. python dictionary practise\n",
    "    \n",
    "        - https://www.tutorialspoint.com/python/python_dictionary.htm\n",
    "\n",
    "    2. youtube video: what is hashing? what is hash table?\n",
    "        - https://www.youtube.com/watch?v=KyUTuwz_b7Q\n",
    "\n",
    "    3. microsoft python tutorial:\n",
    "        https://www.youtube.com/playlist?list=PLlrxD0HtieHhS8VzuMCfQD4uJ9yne1mE6\n",
    "\n",
    "# HW: \n",
    "\n",
    "    1. review number_count/word_count code\n",
    "    2. checkout the microsoft youtube tutorial\n",
    "\n",
    "\n",
    "\n",
    "Questions: trello? anaconda? other?"
   ]
  },
  {
   "cell_type": "code",
   "execution_count": 1,
   "metadata": {},
   "outputs": [
    {
     "name": "stdout",
     "output_type": "stream",
     "text": [
      "{'amy': 10}\n"
     ]
    }
   ],
   "source": [
    "students_age = {}\n",
    "students_age['amy'] = 10\n",
    "print(students_age)"
   ]
  },
  {
   "cell_type": "code",
   "execution_count": 2,
   "metadata": {},
   "outputs": [
    {
     "name": "stdout",
     "output_type": "stream",
     "text": [
      "[4, 4, 1, 1, 1, 8, 10, 3, 1, 4, 5, 10, 8, 2, 9, 10, 2, 4, 7, 7, 8, 6, 5, 6, 9, 9, 9, 5, 9, 10, 3, 6, 1, 6, 8, 6, 3, 5, 9, 2, 2, 10, 7, 6, 4, 8, 8, 8, 3, 4, 1, 7, 7, 2, 8, 2, 1, 5, 7, 8, 8, 9, 8, 10, 6, 8, 1, 3, 9, 10, 4, 8, 8, 1, 6, 2, 2, 10, 9, 6, 3, 1, 7, 8, 8, 3, 7, 6, 5, 9, 3, 10, 8, 10, 6, 2, 8, 2, 1]\n"
     ]
    }
   ],
   "source": [
    "# count number frequency\n",
    "import random\n",
    "numbers = []\n",
    "for num in range(1,100):\n",
    "    numbers.append(random.randint(1,10))\n",
    "print(numbers)\n",
    "    \n",
    "# now let us count the frequency of each number"
   ]
  }
 ],
 "metadata": {
  "kernelspec": {
   "display_name": "Python 3",
   "language": "python",
   "name": "python3"
  },
  "language_info": {
   "codemirror_mode": {
    "name": "ipython",
    "version": 3
   },
   "file_extension": ".py",
   "mimetype": "text/x-python",
   "name": "python",
   "nbconvert_exporter": "python",
   "pygments_lexer": "ipython3",
   "version": "3.6.1"
  }
 },
 "nbformat": 4,
 "nbformat_minor": 2
}
