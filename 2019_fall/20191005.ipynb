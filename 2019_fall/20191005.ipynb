{
 "cells": [
  {
   "cell_type": "markdown",
   "metadata": {},
   "source": [
    "# TODO List\n",
    "\n",
    "watch this video:\n",
    "\n",
    "https://www.youtube.com/watch?v=USCBCmwMCDA&list=PLzdnOPI1iJNcsRwJhvksEo1tJqjIqWbN-&index=3\n",
    "https://www.youtube.com/watch?v=ZoqMiFKspAA&list=PLzdnOPI1iJNcsRwJhvksEo1tJqjIqWbN-&index=4\n",
    "\n",
    "\n",
    "know this guy, Father of python:\n",
    "https://en.wikipedia.org/wiki/Guido_van_Rossum\n",
    "\n",
    "\n",
    "review: how to define a function\n",
    "\n",
    "todo: play with STRING data:\n",
    "https://www.tutorialspoint.com/python/python_strings.htm\n",
    "\n",
    "lab session:\n",
    "play with python string data\n",
    "\n",
    "Questions: trello? anaconda? other?"
   ]
  },
  {
   "cell_type": "code",
   "execution_count": 1,
   "metadata": {
    "scrolled": true
   },
   "outputs": [
    {
     "name": "stdout",
     "output_type": "stream",
     "text": [
      "hello, python\n"
     ]
    }
   ],
   "source": [
    "str1 = 'hello'\n",
    "str2 = 'python'\n",
    "print(str1 + ', ' + str2)"
   ]
  },
  {
   "cell_type": "code",
   "execution_count": 2,
   "metadata": {},
   "outputs": [
    {
     "name": "stdout",
     "output_type": "stream",
     "text": [
      "hello, ivy\n"
     ]
    }
   ],
   "source": [
    "name = 'ivy'\n",
    "print('hello, {}'.format(name))"
   ]
  }
 ],
 "metadata": {
  "kernelspec": {
   "display_name": "Python 3",
   "language": "python",
   "name": "python3"
  },
  "language_info": {
   "codemirror_mode": {
    "name": "ipython",
    "version": 3
   },
   "file_extension": ".py",
   "mimetype": "text/x-python",
   "name": "python",
   "nbconvert_exporter": "python",
   "pygments_lexer": "ipython3",
   "version": "3.6.1"
  }
 },
 "nbformat": 4,
 "nbformat_minor": 2
}
